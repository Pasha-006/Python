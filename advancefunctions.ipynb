{
 "cells": [
  {
   "cell_type": "markdown",
   "metadata": {},
   "source": [
    "# Module 4: Advanced Functions Assignments\n",
    "## Lesson 4.1: Defining Functions\n",
    "### Assignment 1: Fibonacci Sequence with Memoization\n",
    "\n",
    "Define a recursive function to calculate the nth Fibonacci number using memoization. Test the function with different inputs.\n",
    "\n",
    "### Assignment 2: Function with Nested Default Arguments\n",
    "\n",
    "Define a function that takes two arguments, a and b, where b is a dictionary with a default value of an empty dictionary. The function should add a new key-value pair to the dictionary and return it. Test the function with different inputs.\n",
    "\n",
    "### Assignment 3: Function with Variable Keyword Arguments\n",
    "\n",
    "Define a function that takes a variable number of keyword arguments and returns a dictionary containing only those key-value pairs where the value is an integer. Test the function with different inputs.\n",
    "\n",
    "### Assignment 4: Function with Callback\n",
    "\n",
    "Define a function that takes another function as a callback and a list of integers. The function should apply the callback to each integer in the list and return a new list with the results. Test with different callback functions.\n",
    "\n",
    "### Assignment 5: Function that Returns a Function\n",
    "\n",
    "Define a function that returns another function. The returned function should take an integer and return its square. Test the returned function with different inputs.\n",
    "\n",
    "### Assignment 6: Function with Decorators\n",
    "\n",
    "Define a function that calculates the time taken to execute another function. Apply this decorator to a function that performs a complex calculation. Test the decorated function with different inputs.\n",
    "\n",
    "### Assignment 7: Higher-Order Function for Filtering and Mapping\n",
    "\n",
    "Define a higher-order function that takes two functions, a filter function and a map function, along with a list of integers. The higher-order function should first filter the integers using the filter function and then apply the map function to the filtered integers. Test with different filter and map functions.\n",
    "\n",
    "### Assignment 8: Function Composition\n",
    "\n",
    "Define a function that composes two functions, f and g, such that the result is f(g(x)). Test with different functions f and g.\n",
    "\n",
    "### Assignment 9: Partial Function Application\n",
    "\n",
    "Use the functools.partial function to create a new function that multiplies its input by 2. Test the new function with different inputs.\n",
    "\n",
    "### Assignment 10: Function with Error Handling\n",
    "\n",
    "Define a function that takes a list of integers and returns their average. The function should handle any errors that occur (e.g., empty list) and return None in such cases. Test with different inputs.\n",
    "\n",
    "### Assignment 11: Function with Generators\n",
    "\n",
    "Define a function that generates an infinite sequence of Fibonacci numbers. Test by printing the first 10 numbers in the sequence.\n",
    "\n",
    "### Assignment 12: Currying\n",
    "\n",
    "Define a curried function that takes three arguments, one at a time, and returns their product. Test the function by providing arguments one at a time.\n",
    "\n",
    "### Assignment 13: Function with Context Manager\n",
    "\n",
    "Define a function that uses a context manager to write a list of integers to a file. The function should handle any errors that occur during file operations. Test with different lists.\n",
    "\n",
    "### Assignment 14: Function with Multiple Return Types\n",
    "\n",
    "Define a function that takes a list of mixed data types (integers, strings, and floats) and returns three lists: one containing all the integers, one containing all the strings, and one containing all the floats. Test with different inputs.\n",
    "\n",
    "### Assignment 15: Function with State\n",
    "\n",
    "Define a function that maintains state between calls using a mutable default argument. The function should keep track of how many times it has been called. Test by calling the function multiple times."
   ]
  },
  {
   "cell_type": "code",
   "execution_count": 8,
   "id": "0bca750e",
   "metadata": {},
   "outputs": [
    {
     "name": "stdout",
     "output_type": "stream",
     "text": [
      "3\n"
     ]
    }
   ],
   "source": [
    "### Assignment 1: Fibonacci Sequence with Memoization\n",
    "\n",
    "#Define a recursive function to calculate the nth Fibonacci number using memoization. Test the function with different inputs.\n",
    "Fib_series=[0,1]\n",
    "\n",
    "def fib_series_generator(n):\n",
    "    if n==0:\n",
    "        return \n",
    "    a,b=Fib_series[-1],Fib_series[-2]\n",
    "    Fib_series.append(a+b)\n",
    "\n",
    "    fib_series_generator(n-1)\n",
    "n=int(input(\"Enter the number\"))\n",
    "if n>=len(Fib_series):\n",
    "    fib_series_generator(n-2) \n",
    "print(Fib_series[n-1])\n"
   ]
  },
  {
   "cell_type": "code",
   "execution_count": 11,
   "metadata": {},
   "outputs": [
    {
     "name": "stdout",
     "output_type": "stream",
     "text": [
      "{'name': 'Rahul', 'age': 22}\n"
     ]
    }
   ],
   "source": [
    "### Assignment 2: Function with Nested Default Arguments\n",
    "\n",
    "#Define a function that takes two arguments, a and b, where b is a dictionary with a default value of an empty dictionary. The function should add a new key-value pair to the dictionary and return it. Test the function with different inputs.\n",
    "def add_key_value(a,b={}): \n",
    "    b.update(a)\n",
    "    print(b) \n",
    "add_key_value({'name':'Rahul','age':22})\n",
    "\n"
   ]
  },
  {
   "cell_type": "code",
   "execution_count": 15,
   "id": "006a433d",
   "metadata": {},
   "outputs": [
    {
     "name": "stdout",
     "output_type": "stream",
     "text": [
      "{'age': 22}\n"
     ]
    }
   ],
   "source": [
    "### Assignment 3: Function with Variable Keyword Arguments\n",
    "\n",
    "#Define a function that takes a variable number of keyword arguments and returns a dictionary containing only those key-value pairs where the value is an integer. Test the function with different inputs.\n",
    "def Variable_keywords(**kwargs): \n",
    "    result_dict={key:value for key,value in kwargs.items() if isinstance(value,int)}\n",
    "    print(result_dict) \n",
    "Variable_keywords(name='rahul',age=22)\n"
   ]
  },
  {
   "cell_type": "code",
   "execution_count": 16,
   "id": "a0b607ad",
   "metadata": {},
   "outputs": [
    {
     "name": "stdout",
     "output_type": "stream",
     "text": [
      "[1, 4, 9, 16]\n",
      "[2, 3, 4, 5]\n"
     ]
    }
   ],
   "source": [
    "### Assignment 4: Function with Callback\n",
    "\n",
    "#Define a function that takes another function as a callback and a list of integers. The function should apply the callback to each integer in the list and return a new list with the results. Test with different callback functions.\n",
    "def apply_callback(callback, lst):\n",
    "    return [callback(x) for x in lst]\n",
    "\n",
    "# Test\n",
    "print(apply_callback(lambda x: x**2, [1, 2, 3, 4]))  # [1, 4, 9, 16]\n",
    "print(apply_callback(lambda x: x+1, [1, 2, 3, 4]))  # [2, 3, 4, 5]"
   ]
  },
  {
   "cell_type": "code",
   "execution_count": 17,
   "id": "ed1f1965",
   "metadata": {},
   "outputs": [
    {
     "name": "stdout",
     "output_type": "stream",
     "text": [
      "4\n"
     ]
    }
   ],
   "source": [
    "### Assignment 5: Function that Returns a Function\n",
    "\n",
    "#Define a function that returns another function. The returned function should take an integer and return its square. Test the returned function with different inputs.\n",
    "def func():\n",
    "    return lambda x:x*x \n",
    "square=func() \n",
    "print(square(2))"
   ]
  },
  {
   "cell_type": "code",
   "execution_count": 18,
   "id": "6d4ec5aa",
   "metadata": {},
   "outputs": [
    {
     "name": "stdout",
     "output_type": "stream",
     "text": [
      "Function complex_calculation took 0.0030765533447265625 seconds to execute.\n",
      "333283335000\n"
     ]
    }
   ],
   "source": [
    "### Assignment 6: Function with Decorators\n",
    "import time\n",
    "#Define a function that calculates the time taken to execute another function. Apply this decorator to a function that performs a complex calculation. Test the decorated function with different inputs.\n",
    "import time\n",
    "\n",
    "def timer_decorator(func):\n",
    "    def wrapper(*args, **kwargs):\n",
    "        start_time = time.time()\n",
    "        result = func(*args, **kwargs)\n",
    "        end_time = time.time()\n",
    "        print(f\"Function {func.__name__} took {end_time - start_time} seconds to execute.\")\n",
    "        return result\n",
    "    return wrapper\n",
    "\n",
    "@timer_decorator\n",
    "def complex_calculation(n):\n",
    "    return sum(x**2 for x in range(n))\n",
    "\n",
    "# Test\n",
    "print(complex_calculation(10000))"
   ]
  },
  {
   "cell_type": "code",
   "execution_count": 19,
   "id": "ea8fa754",
   "metadata": {},
   "outputs": [
    {
     "name": "stdout",
     "output_type": "stream",
     "text": [
      "[4, 16]\n"
     ]
    }
   ],
   "source": [
    "### Assignment 7: Higher-Order Function for Filtering and Mapping\n",
    "\n",
    "#Define a higher-order function that takes two functions, a filter function and a map function, along with a list of integers. The higher-order function should first filter the integers using the filter function and then apply the map function to the filtered integers. Test with different filter and map functions.\n",
    "\n",
    "def higher_order(filter_function,map_function,numbers):\n",
    "    even_numbers=list(filter(filter_function,numbers))\n",
    "    squares=list(map(square_map_funtion,even_numbers))\n",
    "    print(squares) \n",
    "\n",
    "filter_function=lambda x: x%2==0 \n",
    "square_map_funtion=lambda x:x**2  \n",
    "higher_order(filter_function,square_map_funtion,[1,2,3,4,5])"
   ]
  },
  {
   "cell_type": "code",
   "execution_count": 20,
   "id": "286ed887",
   "metadata": {},
   "outputs": [
    {
     "name": "stdout",
     "output_type": "stream",
     "text": [
      "[4, 16]\n"
     ]
    }
   ],
   "source": [
    "### Assignment 8: Function Composition\n",
    "\n",
    "#Define a function that composes two functions, f and g, such that the result is f(g(x)). Test with different functions f and g.\n",
    "def higher_order(filter_function,map_function,numbers):\n",
    "    even_number_squares=list(map(square_map_funtion,list(filter(filter_function,numbers)))) \n",
    "\n",
    "  \n",
    "    print(even_number_squares) \n",
    "\n",
    "filter_function=lambda x: x%2==0 \n",
    "square_map_funtion=lambda x:x**2  \n",
    "higher_order(filter_function,square_map_funtion,[1,2,3,4,5])\n"
   ]
  },
  {
   "cell_type": "code",
   "execution_count": 21,
   "id": "2409356e",
   "metadata": {},
   "outputs": [
    {
     "name": "stdout",
     "output_type": "stream",
     "text": [
      "20\n"
     ]
    }
   ],
   "source": [
    "### Assignment 9: Partial Function Application\n",
    "from functools import partial\n",
    "#Use the functools.partial function to create a new function that multiplies its input by 2. Test the new function with different inputs.\n",
    "def multiply_by_2(x,y):\n",
    "    return x*y \n",
    "input_multiply_by_2=partial(multiply_by_2,y=2)\n",
    "print(input_multiply_by_2(10))\n"
   ]
  },
  {
   "cell_type": "code",
   "execution_count": 24,
   "id": "19ddede5",
   "metadata": {},
   "outputs": [
    {
     "name": "stdout",
     "output_type": "stream",
     "text": [
      "mean requires at least one data point\n"
     ]
    }
   ],
   "source": [
    "### Assignment 10: Function with Error Handling\n",
    "from statistics import mean\n",
    "#Define a function that takes a list of integers and returns their average. The function should handle any errors that occur (e.g., empty list) and return None in such cases. Test with different inputs.\n",
    "try: \n",
    "    print(mean([]))\n",
    "except Exception as e: \n",
    "    print(e)\n",
    "\n",
    "    "
   ]
  },
  {
   "cell_type": "code",
   "execution_count": 26,
   "id": "741c3849",
   "metadata": {},
   "outputs": [
    {
     "name": "stdout",
     "output_type": "stream",
     "text": [
      "0\n",
      "1\n",
      "1\n",
      "2\n",
      "3\n",
      "5\n",
      "8\n",
      "13\n",
      "21\n",
      "34\n"
     ]
    }
   ],
   "source": [
    "### Assignment 11: Function with Generators\n",
    "\n",
    "#Define a function that generates an infinite sequence of Fibonacci numbers. Test by printing the first 10 numbers in the sequence.\n",
    "def generator_yield(): \n",
    "    a,b=0,1 \n",
    "    while True: \n",
    "        yield a \n",
    "        a,b=b,a+b \n",
    "fib_series=generator_yield() \n",
    "for i in range(10): \n",
    "    print(next(fib_series)) \n"
   ]
  },
  {
   "cell_type": "code",
   "execution_count": 29,
   "id": "9a03d91a",
   "metadata": {},
   "outputs": [
    {
     "name": "stdout",
     "output_type": "stream",
     "text": [
      "6\n"
     ]
    }
   ],
   "source": [
    "### Assignment 12: Currying\n",
    "\n",
    "#Define a curried function that takes three arguments, one at a time, and returns their product. Test the function by providing arguments one at a time.\n",
    "\n",
    "def curried_function(x):\n",
    "    def multiple_with_y(y): \n",
    "        def multiple_with_z(z): \n",
    "            return x+y+z \n",
    "        return multiple_with_z\n",
    "    return multiple_with_y \n",
    "print(curried_function(1)(2)(3))\n"
   ]
  },
  {
   "cell_type": "code",
   "execution_count": 30,
   "id": "eff43204",
   "metadata": {},
   "outputs": [
    {
     "name": "stdout",
     "output_type": "stream",
     "text": [
      "Wrote to output_list_1.txt: [1, 2, 3, 4, 5]\n",
      "Wrote to output_list_2.txt: [10, 20, 30]\n",
      "Warning: '300' is not an integer and will be skipped.\n",
      "Wrote to output_list_3.txt: [100, 200, '300', 400]\n",
      "Wrote to output_list_4.txt: []\n",
      "Wrote to output_list_5.txt: [1, -1, 2, -2]\n"
     ]
    }
   ],
   "source": [
    "### Assignment 13: Function with Context Manager\n",
    "\n",
    "#Define a function that uses a context manager to write a list of integers to a file. The function should handle any errors that occur during file operations. Test with different lists.\n",
    "def write_integers_to_file(integers, filename):\n",
    "    \"\"\"Writes a list of integers to a specified file.\n",
    "\n",
    "    Args:\n",
    "        integers (list): A list of integers to write to the file.\n",
    "        filename (str): The name of the file where integers will be written.\n",
    "\n",
    "    Returns:\n",
    "        None\n",
    "    \"\"\"\n",
    "    try:\n",
    "        with open(filename, 'w') as file:\n",
    "            for number in integers:\n",
    "                # Ensure that the element is an integer before writing\n",
    "                if isinstance(number, int):\n",
    "                    file.write(f\"{number}\\n\")\n",
    "                else:\n",
    "                    print(f\"Warning: '{number}' is not an integer and will be skipped.\")\n",
    "    except IOError as e:\n",
    "        print(f\"An error occurred while writing to the file: {e}\")\n",
    "    except Exception as e:\n",
    "        print(f\"An unexpected error occurred: {e}\")\n",
    "\n",
    "# Testing the function with different lists\n",
    "test_lists = [\n",
    "    [1, 2, 3, 4, 5],\n",
    "    [10, 20, 30],\n",
    "    [100, 200, '300', 400],  # Includes a string to test error handling\n",
    "    [],  # An empty list\n",
    "    [1, -1, 2, -2]  # Includes negative integers\n",
    "]\n",
    "\n",
    "for i, test_list in enumerate(test_lists, start=1):\n",
    "    filename = f\"output_list_{i}.txt\"\n",
    "    write_integers_to_file(test_list, filename)\n",
    "    print(f\"Wrote to {filename}: {test_list}\")\n"
   ]
  },
  {
   "cell_type": "code",
   "execution_count": 34,
   "id": "ca6d2b70",
   "metadata": {},
   "outputs": [
    {
     "name": "stdout",
     "output_type": "stream",
     "text": [
      "([12], ['rahulpasha'], [87.5])\n"
     ]
    }
   ],
   "source": [
    "### Assignment 14: Function with Multiple Return Types\n",
    "\n",
    "#Define a function that takes a list of mixed data types (integers, strings, and floats) and returns three lists: one containing all the integers, one containing all the strings, and one containing all the floats. Test with different inputs.\n",
    "def filter_data(mixed_data):\n",
    "\n",
    "    integers=lambda x:isinstance(x,int) \n",
    "    strings=lambda x: isinstance(x,str)\n",
    "    floats=lambda x:isinstance(x,float)\n",
    "    integers_list=list(filter(integers,mixed_data))\n",
    "    strings_list=list(filter(strings,mixed_data))\n",
    "    float_list=list(filter(floats,mixed_data))\n",
    "    return integers_list,strings_list,float_list\n",
    "print(filter_data([\"rahulpasha\",12,87.50]))\n"
   ]
  },
  {
   "cell_type": "code",
   "execution_count": 35,
   "id": "b9406f35",
   "metadata": {},
   "outputs": [
    {
     "name": "stdout",
     "output_type": "stream",
     "text": [
      "Function called 1 time(s).\n",
      "Function called 2 time(s).\n",
      "Function called 3 time(s).\n",
      "Function called 4 time(s).\n",
      "Function called 5 time(s).\n"
     ]
    }
   ],
   "source": [
    "### Assignment 15: Function with State\n",
    "\n",
    "#Define a function that maintains state between calls using a mutable default argument. The function should keep track of how many times it has been called. Test by calling the function multiple times.\n",
    "\n",
    "\n",
    "def call_counter(count_list=[]):\n",
    "    \"\"\"A function that counts how many times it has been called.\n",
    "\n",
    "    Args:\n",
    "        count_list (list): A mutable default argument to keep track of call counts.\n",
    "\n",
    "    Returns:\n",
    "        int: The number of times the function has been called.\n",
    "    \"\"\"\n",
    "    count_list.append(1)  # Increment the count by appending to the list\n",
    "    return len(count_list)  # Return the current count\n",
    "\n",
    "# Testing the function by calling it multiple times\n",
    "for i in range(5):\n",
    "    print(f\"Function called {call_counter()} time(s).\")\n"
   ]
  }
 ],
 "metadata": {
  "kernelspec": {
   "display_name": "Python 3",
   "language": "python",
   "name": "python3"
  },
  "language_info": {
   "codemirror_mode": {
    "name": "ipython",
    "version": 3
   },
   "file_extension": ".py",
   "mimetype": "text/x-python",
   "name": "python",
   "nbconvert_exporter": "python",
   "pygments_lexer": "ipython3",
   "version": "3.12.0"
  }
 },
 "nbformat": 4,
 "nbformat_minor": 5
}
