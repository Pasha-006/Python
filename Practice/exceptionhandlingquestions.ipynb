{
 "cells": [
  {
   "cell_type": "markdown",
   "metadata": {},
   "source": [
    "# Module: Exception Handling Assignments\n",
    "## Lesson: Exception Handling with try, except, and finally\n",
    "\n",
    "\n",
    "\n",
    "\n",
    "\n",
    "\n",
    "\n",
    "\n",
    "\n",
    "\n",
    "\n",
    "\n",
    "\n",
    "\n",
    "### Assignment 9: Exception Handling in JSON Parsing\n",
    "\n",
    "Write a function that attempts to parse a JSON string. Use try, except, and finally blocks to handle JSONDecodeError if the string is not a valid JSON and print an appropriate message.\n",
    "\n",
    "### Assignment 10: Custom Exception Handling\n",
    "\n",
    "Define a custom exception named `NegativeNumberError`. Write a function that raises this exception if a negative number is encountered in a list. Use try, except, and finally blocks to handle the custom exception and print an appropriate message.\n",
    "\n",
    "### Assignment 11: Exception Handling in Function Calls\n",
    "\n",
    "Write a function that calls another function which may raise an exception. Use try, except, and finally blocks to handle the exception and print an appropriate message.\n",
    "\n",
    "### Assignment 12: Exception Handling in Class Methods\n",
    "\n",
    "Define a class with a method that performs a division operation. Use try, except, and finally blocks within the method to handle division by zero and print an appropriate message.\n",
    "\n",
    "### Assignment 13: Exception Handling in Data Conversion\n",
    "\n",
    "Write a function that takes a list of strings and converts them to integers. Use try, except, and finally blocks to handle ValueError if a string cannot be converted and print an appropriate message.\n",
    "\n",
    "### Assignment 14: Exception Handling in List Comprehensions\n",
    "\n",
    "Write a function that uses a list comprehension to convert a list of strings to integers. Use try, except, and finally blocks within the list comprehension to handle ValueError and print an appropriate message.\n",
    "\n",
    "### Assignment 15: Exception Handling in File Writing\n",
    "\n",
    "Write a function that attempts to write a list of strings to a file. Use try, except, and finally blocks to handle IOError and ensure the file is properly closed."
   ]
  },
  {
   "cell_type": "code",
   "execution_count": 2,
   "metadata": {},
   "outputs": [
    {
     "name": "stdout",
     "output_type": "stream",
     "text": [
      "division by zero\n"
     ]
    }
   ],
   "source": [
    "### Assignment 1: Handling Division by Zero\n",
    "\n",
    "#Write a function that takes two integers as input and returns their division. Use try, except, and finally blocks to handle division by zero and print an appropriate message.\n",
    "def divsion(a,b):\n",
    "    try: \n",
    "        a=a/b \n",
    "    except ZeroDivisionError as e:\n",
    "        print(e)\n",
    "divsion(1,0)\n"
   ]
  },
  {
   "cell_type": "code",
   "execution_count": 11,
   "id": "c73ffa92",
   "metadata": {},
   "outputs": [
    {
     "name": "stdout",
     "output_type": "stream",
     "text": [
      "[Errno 2] No such file or directory: 'example.txt'\n",
      "file closed successfully\n"
     ]
    }
   ],
   "source": [
    "### Assignment 2: File Reading with Exception Handling\n",
    "\n",
    "#Write a function that reads the contents of a file named `data.txt`. Use try, except, and finally blocks to handle file not found errors and ensure the file is properly closed.\n",
    "try :\n",
    "    file=open('example.txt','r')  \n",
    "    content=file.read() \n",
    "except Exception as e:\n",
    "    print(e)\n",
    "finally: \n",
    "    if 'file' in locals() and not file.closed:\n",
    "        file.close() \n",
    "        \n",
    "    print(\"file closed successfully\" )\n",
    " \n",
    "\n",
    "        \n"
   ]
  },
  {
   "cell_type": "code",
   "execution_count": 15,
   "id": "fc903760",
   "metadata": {},
   "outputs": [
    {
     "name": "stdout",
     "output_type": "stream",
     "text": [
      "12\n"
     ]
    }
   ],
   "source": [
    "\n",
    "### Assignment 3: Handling Multiple Exceptions\n",
    "\n",
    "#Write a function that takes a list of integers and returns their sum. Use try, except, and finally blocks to handle TypeError if a non-integer value is encountered and print an appropriate message.\n",
    "def sum_value(numbers): \n",
    "    total=0\n",
    "    for i in numbers: \n",
    "        if not isinstance(i,int):\n",
    "            raise TypeError(\"it is not a integer\")\n",
    "        total+=i \n",
    "    return total \n",
    "print(sum_value([1,2,4,5]))\n",
    "        "
   ]
  },
  {
   "cell_type": "code",
   "execution_count": 17,
   "id": "f7c9a84f",
   "metadata": {},
   "outputs": [
    {
     "name": "stdout",
     "output_type": "stream",
     "text": [
      "non negative integers not accepts\n"
     ]
    }
   ],
   "source": [
    "### Assignment 4: Exception Handling in User Input\n",
    "\n",
    "#Write a function that prompts the user to enter an integer. Use try, except, and finally blocks to handle ValueError if the user enters a non-integer value and print an appropriate message.\n",
    "try: \n",
    "    value=input()\n",
    "    if not isinstance(value,int):\n",
    "        raise TypeError(\"non negative integers not accepts\")\n",
    "except Exception as e:\n",
    "    print(e)\n"
   ]
  },
  {
   "cell_type": "code",
   "execution_count": 19,
   "id": "dc403542",
   "metadata": {},
   "outputs": [
    {
     "name": "stdout",
     "output_type": "stream",
     "text": [
      "Consonant key Found\n"
     ]
    }
   ],
   "source": [
    "### Assignment 5: Exception Handling in Dictionary Access\n",
    "\n",
    "#Write a function that takes a dictionary and a key as input and returns the value associated with the key. Use try, except, and finally blocks to handle KeyError if the key is not found in the dictionary and print an appropriate message.\n",
    "dicitionary={'a':0,'e':0,'i':0,'o':0,'u':0}\n",
    "\n",
    "alphabets=\"abceio\"\n",
    "try:\n",
    "    for char in alphabets:\n",
    "        if char not in dicitionary.keys():\n",
    "            raise TypeError(\"Consonant key Found\")\n",
    "except Exception as e: \n",
    "    print(e)\n",
    "\n",
    "\n",
    "\n",
    "\n"
   ]
  },
  {
   "cell_type": "code",
   "execution_count": 23,
   "id": "61cfd24c",
   "metadata": {},
   "outputs": [
    {
     "name": "stdout",
     "output_type": "stream",
     "text": [
      "10.0\n"
     ]
    }
   ],
   "source": [
    "### Assignment 6: Nested Exception Handling\n",
    "\n",
    "#Write a function that performs nested exception handling. It should first attempt to convert a string to an integer, and then attempt to divide by that integer. Use nested try, except, and finally blocks to handle ValueError and ZeroDivisionError and print appropriate messages.\n",
    "\n",
    "try: \n",
    "    string_value=\"10\"\n",
    "    integer_value=int(string_value)\n",
    "    try: \n",
    "        div=100/integer_value \n",
    "    except Exception as e: \n",
    "        print(e)\n",
    "except Exception as e: \n",
    "    print(e)\n",
    "else :\n",
    "    print(div)"
   ]
  },
  {
   "cell_type": "code",
   "execution_count": 24,
   "id": "14c65fbf",
   "metadata": {},
   "outputs": [
    {
     "name": "stdout",
     "output_type": "stream",
     "text": [
      "list index out of range\n"
     ]
    }
   ],
   "source": [
    "### Assignment 7: Exception Handling in List Operations\n",
    "\n",
    "#Write a function that takes a list and an index as input and returns the element at the given index. Use try, except, and finally blocks to handle IndexError if the index is out of range and print an appropriate message.\n",
    "\n",
    "lists=[1,2,34,5]\n",
    "index =10 \n",
    "try: \n",
    "    print(lists[index])\n",
    "except Exception as e:\n",
    "    print(e)"
   ]
  },
  {
   "cell_type": "code",
   "execution_count": 25,
   "id": "f05ec8ac",
   "metadata": {},
   "outputs": [
    {
     "ename": "ModuleNotFoundError",
     "evalue": "No module named 'requests'",
     "output_type": "error",
     "traceback": [
      "\u001b[1;31m---------------------------------------------------------------------------\u001b[0m",
      "\u001b[1;31mModuleNotFoundError\u001b[0m                       Traceback (most recent call last)",
      "Cell \u001b[1;32mIn[25], line 4\u001b[0m\n\u001b[0;32m      1\u001b[0m \u001b[38;5;66;03m### Assignment 8: Exception Handling in Network Operations\u001b[39;00m\n\u001b[0;32m      2\u001b[0m \n\u001b[0;32m      3\u001b[0m \u001b[38;5;66;03m#Write a function that attempts to open a URL and read its contents. Use try, except, and finally blocks to handle network-related errors and print an appropriate message.\u001b[39;00m\n\u001b[1;32m----> 4\u001b[0m \u001b[38;5;28;01mimport\u001b[39;00m \u001b[38;5;21;01mrequests\u001b[39;00m\n\u001b[0;32m      6\u001b[0m \u001b[38;5;28;01mdef\u001b[39;00m \u001b[38;5;21mfetch_url_contents\u001b[39m(url):\n\u001b[0;32m      7\u001b[0m     \u001b[38;5;28;01mtry\u001b[39;00m:\n",
      "\u001b[1;31mModuleNotFoundError\u001b[0m: No module named 'requests'"
     ]
    }
   ],
   "source": [
    "### Assignment 8: Exception Handling in Network Operations\n",
    "\n",
    "#Write a function that attempts to open a URL and read its contents. Use try, except, and finally blocks to handle network-related errors and print an appropriate message.\n",
    "import requests\n",
    "\n",
    "def fetch_url_contents(url):\n",
    "    try:\n",
    "        response = requests.get(url)  # Attempt to open the URL\n",
    "        response.raise_for_status()   # Check if the request was successful (raises HTTPError for bad responses)\n",
    "        content = response.text       # Get the content of the URL\n",
    "        print(\"URL content fetched successfully.\")\n",
    "        return content\n",
    "    except requests.exceptions.RequestException as e:  # This will catch all kinds of network-related exceptions\n",
    "        print(f\"An error occurred: {e}\")\n",
    "    finally:\n",
    "        print(\"Network operation completed, whether successful or not.\")\n",
    "\n",
    "# Example usage\n",
    "url = \"https://www.example.com\"\n",
    "content = fetch_url_contents(url)\n",
    "if content:\n",
    "    print(\"Content length:\", len(content))  # Only print if content was successfully fetched\n"
   ]
  }
 ],
 "metadata": {
  "kernelspec": {
   "display_name": "Python 3",
   "language": "python",
   "name": "python3"
  },
  "language_info": {
   "codemirror_mode": {
    "name": "ipython",
    "version": 3
   },
   "file_extension": ".py",
   "mimetype": "text/x-python",
   "name": "python",
   "nbconvert_exporter": "python",
   "pygments_lexer": "ipython3",
   "version": "3.12.0"
  }
 },
 "nbformat": 4,
 "nbformat_minor": 5
}
