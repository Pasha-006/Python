{
 "cells": [
  {
   "cell_type": "markdown",
   "metadata": {},
   "source": [
    "# Module: NumPy Assignments\n",
    "## Lesson: NumPy\n",
    "\n",
    "\n",
    "\n",
    "\n",
    "\n",
    "\n",
    "\n",
    "\n",
    "\n"
   ]
  },
  {
   "cell_type": "code",
   "execution_count": 9,
   "metadata": {},
   "outputs": [
    {
     "data": {
      "text/plain": [
       "array([[ 0, 15, 13,  5],\n",
       "       [13,  0,  7,  4],\n",
       "       [ 0, 12,  0, 10],\n",
       "       [ 3, 10, 11,  0]], dtype=int32)"
      ]
     },
     "execution_count": 9,
     "metadata": {},
     "output_type": "execute_result"
    }
   ],
   "source": [
    "### Assignment 1: Array Creation and Manipulation\n",
    "\n",
    "#1. Create a NumPy array of shape (5, 5) filled with random integers between 1 and 20. Replace all the elements in the third column with 1.\n",
    "#2. Create a NumPy array of shape (4, 4) with values from 1 to 16. Replace the diagonal elements with 0.\n",
    "import numpy as np \n",
    "nm_array=np.arange(0,25,1).reshape(5,5)\n",
    "#num_array=np.random.randint(0,25, size=(5,5))\n",
    "nm_array[3:4]=1\n",
    "nm_array\n",
    "\n",
    "np_array=np.random.randint(0,16,size=(4,4))\n",
    "np.fill_diagonal(np_array,0)\n",
    "np_array\n"
   ]
  },
  {
   "cell_type": "code",
   "execution_count": 19,
   "id": "125252ee",
   "metadata": {},
   "outputs": [
    {
     "name": "stdout",
     "output_type": "stream",
     "text": [
      "[[ 1  2  3  4  5  6]\n",
      " [ 7  8  9 10 11 12]\n",
      " [13 14 15 16 17 18]\n",
      " [19 20 21 22 23 24]\n",
      " [25 26 27 28 29 30]\n",
      " [31 32 33 34 35 36]]\n"
     ]
    },
    {
     "data": {
      "text/plain": [
       "array([[ 1,  5],\n",
       "       [ 6, 10],\n",
       "       [11, 15],\n",
       "       [16, 20],\n",
       "       [21, 25]])"
      ]
     },
     "execution_count": 19,
     "metadata": {},
     "output_type": "execute_result"
    }
   ],
   "source": [
    "### Assignment 2: Array Indexing and Slicing\n",
    "\n",
    "#1. Create a NumPy array of shape (6, 6) with values from 1 to 36. Extract the sub-array consisting of the 3rd to 5th rows and 2nd to 4th columns.\n",
    "#2. Create a NumPy array of shape (5, 5) with random integers. Extract the elements on the border.\n",
    "np_array=np.arange(1,37).reshape(6,6)\n",
    "sub_array=np_array[3:6,2:5]\n",
    "print(np_array)\n",
    "np_array2=np.arange(1,26).reshape(5,5)\n",
    "np_array2[0:5,0:5:4]\n",
    "\n",
    "\n"
   ]
  },
  {
   "cell_type": "code",
   "execution_count": 29,
   "id": "95c21c99",
   "metadata": {},
   "outputs": [
    {
     "name": "stdout",
     "output_type": "stream",
     "text": [
      "[[ 0  1  2  3]\n",
      " [ 4  5  6  7]\n",
      " [ 8  9 10 11]]\n",
      "[ 6 22 38]\n",
      "[12 15 18 21]\n"
     ]
    }
   ],
   "source": [
    "\n",
    "### Assignment 3: Array Operations\n",
    "\n",
    "#1. Create two NumPy arrays of shape (3, 4) filled with random integers. Perform element-wise addition, subtraction, multiplication, and division.\n",
    "#2. Create a NumPy array of shape (4, 4) with values from 1 to 16. Compute the row-wise and column-wise sum.\n",
    "\n",
    "np_array=np.arange(0,12).reshape(3,4)\n",
    "np_array+10\n",
    "print(np_array)\n",
    "print(np.sum(np_array,axis=1))\n",
    "print(np.sum(np_array,axis=0))\n"
   ]
  },
  {
   "cell_type": "code",
   "execution_count": 33,
   "id": "805663a5",
   "metadata": {},
   "outputs": [
    {
     "data": {
      "text/plain": [
       "DescribeResult(nobs=25, minmax=(np.int64(1), np.int64(25)), mean=np.float64(13.0), variance=np.float64(54.16666666666667), skewness=np.float64(0.0), kurtosis=np.float64(-1.2038461538461538))"
      ]
     },
     "execution_count": 33,
     "metadata": {},
     "output_type": "execute_result"
    }
   ],
   "source": [
    "### Assignment 4: Statistical Operations\n",
    "\n",
    "#1. Create a NumPy array of shape (5, 5) filled with random integers. Compute the mean, median, standard deviation, and variance of the array.\n",
    "#2. Create a NumPy array of shape (3, 3) with values from 1 to 9. Normalize the array (i.e., scale the values to have a mean of 0 and a standard deviation of 1).\n",
    "from scipy import stats\n",
    "np_array=np.arange(1,26).reshape(5,5)\n",
    "stats.describe(np_array)\n",
    "#\n",
    "np_arr=np_array.ravel()\n",
    "stats.describe(np_arr)"
   ]
  },
  {
   "cell_type": "code",
   "execution_count": 36,
   "id": "ed887c71",
   "metadata": {},
   "outputs": [
    {
     "name": "stdout",
     "output_type": "stream",
     "text": [
      "[[0 1 2]\n",
      " [3 4 5]\n",
      " [6 7 8]]\n",
      "[0 1 2]\n"
     ]
    },
    {
     "data": {
      "text/plain": [
       "array([[ 0,  2,  4],\n",
       "       [ 3,  5,  7],\n",
       "       [ 6,  8, 10]])"
      ]
     },
     "execution_count": 36,
     "metadata": {},
     "output_type": "execute_result"
    }
   ],
   "source": [
    "### Assignment 5: Broadcasting\n",
    "\n",
    "#1. Create a NumPy array of shape (3, 3) filled with random integers. Add a 1D array of shape (3,) to each row of the 2D array using broadcasting.\n",
    "#2. Create a NumPy array of shape (4, 4) filled with random integers. Subtract a 1D array of shape (4,) from each column of the 2D array using broadcasting.\n",
    "np_array=np.arange(0,9).reshape(3,3)\n",
    "broad_cast_array=np.arange(0,3).reshape(3,)\n",
    "print(np_array)\n",
    "print(broad_cast_array)\n",
    "np_array+broad_cast_array"
   ]
  },
  {
   "cell_type": "code",
   "execution_count": 45,
   "id": "7aed79bc",
   "metadata": {},
   "outputs": [
    {
     "name": "stdout",
     "output_type": "stream",
     "text": [
      "-2.0\n",
      "[[0 1 2]\n",
      " [3 4 5]]\n",
      "[[0 1]\n",
      " [2 3]\n",
      " [4 5]]\n",
      "[[10 13]\n",
      " [28 40]]\n",
      "[[10 13]\n",
      " [28 40]]\n"
     ]
    }
   ],
   "source": [
    "\n",
    "### Assignment 6: Linear Algebra\n",
    "\n",
    "#1. Create a NumPy array of shape (3, 3) representing a matrix. Compute its determinant, inverse, and eigenvalues.\n",
    "#2. Create two NumPy arrays of shape (2, 3) and (3, 2). Perform matrix multiplication on these arrays.\n",
    "num_array=np.arange(0,9).reshape(3,3)\n",
    "array = np.array([[4, 2],\n",
    "                  [3, 1]]) \n",
    "det=np.linalg.det(array)\n",
    "print(det) \n",
    "mat1=np.arange(0,6).reshape(2,3)\n",
    "mat2=np.arange(0,6).reshape(3,2)\n",
    "print(mat1)\n",
    "print(mat2)\n",
    "print(np.matmul(mat1,mat2)) \n",
    "print(mat1@mat2)\n",
    "\n",
    "\n"
   ]
  },
  {
   "cell_type": "code",
   "execution_count": 51,
   "id": "fd12c54d",
   "metadata": {},
   "outputs": [
    {
     "name": "stdout",
     "output_type": "stream",
     "text": [
      "[[0 1 2]\n",
      " [3 4 5]\n",
      " [6 7 8]]\n",
      "[[0]\n",
      " [1]\n",
      " [2]\n",
      " [3]\n",
      " [4]\n",
      " [5]\n",
      " [6]\n",
      " [7]\n",
      " [8]]\n",
      "[[0 1 2 3 4 5 6 7 8]]\n",
      "[ 1  2  3  4  5  6  7  8  9 10 11 12 13 14 15 16 17 18 19 20 21 22 23 24\n",
      " 25]\n",
      "[[ 1  2  3  4  5]\n",
      " [ 6  7  8  9 10]\n",
      " [11 12 13 14 15]\n",
      " [16 17 18 19 20]\n",
      " [21 22 23 24 25]]\n"
     ]
    }
   ],
   "source": [
    "\n",
    "\n",
    "### Assignment 7: Advanced Array Manipulation\n",
    "\n",
    "#1. Create a NumPy array of shape (3, 3) with values from 1 to 9. Reshape the array to shape (1, 9) and then to shape (9, 1).\n",
    "#2. Create a NumPy array of shape (5, 5) filled with random integers. Flatten the array and then reshape it back to (5, 5).\n",
    "\n",
    "nm_array=np.arange(0,9).reshape(3,3)\n",
    "print(nm_array)\n",
    "print(nm_array.reshape(9,1))\n",
    "print(nm_array.reshape(1,9))\n",
    "\n",
    "array=np.arange(1,26).reshape(5,5)\n",
    "flatten=array.ravel()\n",
    "print(flatten)\n",
    "print(flatten.reshape(5,5))\n",
    "\n"
   ]
  },
  {
   "cell_type": "code",
   "execution_count": 55,
   "id": "172e17d7",
   "metadata": {},
   "outputs": [
    {
     "name": "stdout",
     "output_type": "stream",
     "text": [
      "Original Array:\n",
      "[[10 20 30]\n",
      " [40 50 60]\n",
      " [70 80 90]]\n",
      "\n",
      "Extracted Elements:\n",
      "[20 60 70]\n",
      "[[10 10 10]\n",
      " [10 10 10]\n",
      " [10 10 10]]\n"
     ]
    }
   ],
   "source": [
    "\n",
    "\n",
    "### Assignment 8: Fancy Indexing and Boolean Indexing\n",
    "\n",
    "#1. Create a NumPy array of shape (5, 5) filled with random integers. Use fancy indexing to extract the elements at the corners of the array.\n",
    "#2. Create a NumPy array of shape (4, 4) filled with random integers. Use boolean indexing to set all elements greater than 10 to 10.\n",
    "\n",
    "import numpy as np\n",
    "\n",
    "# Create a 2D NumPy array\n",
    "array = np.array([[10, 20, 30], \n",
    "                  [40, 50, 60], \n",
    "                  [70, 80, 90]])\n",
    "\n",
    "# Use fancy indexing to extract specific elements\n",
    "# Let's say we want to extract (0, 1), (1, 2), and (2, 0)\n",
    "rows = [0, 1, 2]\n",
    "cols = [1, 2, 0]\n",
    "\n",
    "# Fancy indexing\n",
    "result = array[rows, cols]\n",
    "\n",
    "print(\"Original Array:\")\n",
    "print(array)\n",
    "print(\"\\nExtracted Elements:\")\n",
    "print(result)\n",
    "array[array>10]=10\n",
    "print(array)\n",
    "\n"
   ]
  },
  {
   "cell_type": "code",
   "execution_count": 56,
   "id": "95cfd01c",
   "metadata": {},
   "outputs": [
    {
     "name": "stdout",
     "output_type": "stream",
     "text": [
      "Structured Array Sorted by Age:\n",
      "[('Charlie', 22, 68.1) ('Alice', 25, 55. ) ('Bob', 30, 78.5)\n",
      " ('David', 35, 85.2)]\n"
     ]
    }
   ],
   "source": [
    "\n",
    "### Assignment 9: Structured Arrays\n",
    "\n",
    "#1. Create a structured array with fields 'name' (string), 'age' (integer), and 'weight' (float). Add some data and sort the array by age.\n",
    "#2. Create a structured array with fields 'x' and 'y' (both integers). Add some data and compute the Euclidean distance between each pair of points.\n",
    "import numpy as np\n",
    "\n",
    "# Step 1: Define the structured array data type\n",
    "data_type = [('name', 'U10'), ('age', 'i4'), ('weight', 'f4')]\n",
    "\n",
    "# Step 2: Create the structured array and add some data\n",
    "people = np.array([('Alice', 25, 55.0),\n",
    "                   ('Bob', 30, 78.5),\n",
    "                   ('Charlie', 22, 68.1),\n",
    "                   ('David', 35, 85.2)],\n",
    "                  dtype=data_type)\n",
    "\n",
    "# Step 3: Sort the array by 'age'\n",
    "sorted_people = np.sort(people, order='age')\n",
    "\n",
    "# Print the sorted array\n",
    "print(\"Structured Array Sorted by Age:\")\n",
    "print(sorted_people)\n",
    "data_type2 = [('x', 'i4'), ('y', 'i4')]\n",
    "normal_points=np.array([(10,10),\n",
    "                        (20,20),\n",
    "                        (30,30)])\n",
    "import numpy as np\n",
    "\n",
    "# Step 1: Define the structured array data type\n",
    "data_type = [('x', 'i4'), ('y', 'i4')]\n",
    "\n",
    "# Step 2: Create the structured array and add some data\n",
    "points = np.array([(1, 2), (4, 6), (7, 8), (2, 1)], dtype=data_type)\n",
    "\n",
    "# Step 3: Compute Euclidean distance between each pair of points\n",
    "def euclidean_distance(p1, p2):\n",
    "    return np.sqrt((p1['x'] - p2['x'])**2 + (p1['y'] - p2['y'])**2)\n",
    "\n",
    "# Step 4: Compute and print distances between all pairs of points\n",
    "n_points = len(points)\n",
    "distances = np.zeros((n_points, n_points))\n",
    "\n",
    "for i in range(n_points):\n",
    "    for j in range(n_points):\n",
    "        distances[i, j] = euclidean_distance(points[i], points[j])\n",
    "\n",
    "# Print the original points and their pairwise distances\n",
    "print(\"Points:\")\n",
    "print(points)\n",
    "\n",
    "print(\"\\nEuclidean Distances:\")\n",
    "print(distances)\n",
    "\n"
   ]
  },
  {
   "cell_type": "code",
   "execution_count": null,
   "id": "0fe8c30a",
   "metadata": {},
   "outputs": [],
   "source": []
  },
  {
   "cell_type": "code",
   "execution_count": 57,
   "id": "ea5bbe65",
   "metadata": {},
   "outputs": [
    {
     "name": "stdout",
     "output_type": "stream",
     "text": [
      "[[0 1 2 3]\n",
      " [4 -- -- --]\n",
      " [-- -- -- --]\n",
      " [-- -- -- --]]\n",
      "10\n"
     ]
    }
   ],
   "source": [
    "### Assignment 10: Masked Arrays\n",
    "import numpy.ma as ma\n",
    "#1. Create a masked array of shape (4, 4) with random integers and mask the elements greater than 10. Compute the sum of the unmasked elements.\n",
    "#2. Create a masked array of shape (3, 3) with random integers and mask the diagonal elements. Replace the masked elements with the mean of the unmasked elements.\n",
    "array=np.arange(0,16).reshape(4,4)\n",
    "masked_array=ma.masked_array(array,mask=array>4)\n",
    "print(masked_array)\n",
    "print(masked_array.sum())\n"
   ]
  }
 ],
 "metadata": {
  "kernelspec": {
   "display_name": "Python 3",
   "language": "python",
   "name": "python3"
  },
  "language_info": {
   "codemirror_mode": {
    "name": "ipython",
    "version": 3
   },
   "file_extension": ".py",
   "mimetype": "text/x-python",
   "name": "python",
   "nbconvert_exporter": "python",
   "pygments_lexer": "ipython3",
   "version": "3.12.0"
  }
 },
 "nbformat": 4,
 "nbformat_minor": 5
}
