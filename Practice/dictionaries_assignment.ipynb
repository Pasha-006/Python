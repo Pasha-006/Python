{
 "cells": [
  {
   "cell_type": "markdown",
   "metadata": {},
   "source": [
    "# Module 3: Data Structures Assignments\n",
    "## Lesson 3.4: Dictionaries\n",
    "### Assignment 1: Creating and Accessing Dictionaries\n",
    "\n",
    "Create a dictionary with the first 10 positive integers as keys and their squares as values. Print the dictionary.\n",
    "\n",
    "### Assignment 2: Accessing Dictionary Elements\n",
    "\n",
    "Print the value of the key 5 and the keys of the dictionary created in Assignment 1.\n",
    "\n",
    "### Assignment 3: Dictionary Methods\n",
    "\n",
    "Add a new key-value pair (11, 121) to the dictionary created in Assignment 1 and then remove the key-value pair with key 1. Print the modified dictionary.\n",
    "\n",
    "### Assignment 4: Iterating Over Dictionaries\n",
    "\n",
    "Iterate over the dictionary created in Assignment 1 and print each key-value pair.\n",
    "\n",
    "### Assignment 5: Dictionary Comprehensions\n",
    "\n",
    "Create a new dictionary containing the cubes of the first 10 positive integers using a dictionary comprehension. Print the new dictionary.\n",
    "\n",
    "### Assignment 6: Merging Dictionaries\n",
    "\n",
    "Create two dictionaries: one with keys as the first 5 positive integers and values as their squares, and another with keys as the next 5 positive integers and values as their squares. Merge these dictionaries into a single dictionary and print it.\n",
    "\n",
    "### Assignment 7: Nested Dictionaries\n",
    "\n",
    "Create a nested dictionary representing a student with keys 'name', 'age', 'grades', where 'grades' is another dictionary with keys 'math', 'science', and 'english'. Print the nested dictionary.\n",
    "\n",
    "### Assignment 8: Dictionary of Lists\n",
    "\n",
    "Create a dictionary where the keys are the first 5 positive integers and the values are lists containing the first 5 multiples of the key. Print the dictionary.\n",
    "\n",
    "### Assignment 9: Dictionary of Tuples\n",
    "\n",
    "Create a dictionary where the keys are the first 5 positive integers and the values are tuples containing the key and its square. Print the dictionary.\n",
    "\n",
    "### Assignment 10: Dictionary and List Conversion\n",
    "\n",
    "Create a dictionary with the first 5 positive integers as keys and their squares as values. Convert the dictionary to a list of tuples and print it.\n",
    "\n",
    "### Assignment 11: Dictionary Filtering\n",
    "\n",
    "Create a dictionary with the first 10 positive integers as keys and their squares as values. Create a new dictionary containing only the key-value pairs where the key is even. Print the new dictionary.\n",
    "\n",
    "### Assignment 12: Dictionary Key and Value Transformation\n",
    "\n",
    "Create a dictionary with the first 5 positive integers as keys and their squares as values. Create a new dictionary with keys and values swapped. Print the new dictionary.\n",
    "\n",
    "### Assignment 13: Default Dictionary\n",
    "\n",
    "Create a default dictionary where each key has a default value of an empty list. Add some elements to the lists and print the dictionary.\n",
    "\n",
    "### Assignment 14: Counting with Dictionaries\n",
    "\n",
    "Write a function that takes a string and returns a dictionary with the count of each character in the string. Print the dictionary.\n",
    "\n",
    "### Assignment 15: Dictionary and JSON\n",
    "\n",
    "Create a dictionary representing a book with keys 'title', 'author', 'year', and 'genre'. Convert the dictionary to a JSON string and print it."
   ]
  },
  {
   "cell_type": "code",
   "execution_count": 11,
   "metadata": {},
   "outputs": [
    {
     "name": "stdout",
     "output_type": "stream",
     "text": [
      "<class 'dict'>\n",
      "dict_keys([1, 2, 3, 4, 5, 6, 7, 8, 9, 10])\n"
     ]
    }
   ],
   "source": [
    "# Module 3: Data Structures Assignments\n",
    "## Lesson 3.4: Dictionaries\n",
    "### Assignment 1: Creating and Accessing Dictionaries\n",
    "\n",
    "#Create a dictionary with the first 10 positive integers as keys and their squares as values. Print the dictionary.\n",
    "squares={x:x*x for x in range(1,11)}\n",
    "print(type(squares))\n",
    "print(squares.keys())"
   ]
  },
  {
   "cell_type": "code",
   "execution_count": 12,
   "id": "3be722d1",
   "metadata": {},
   "outputs": [
    {
     "name": "stdout",
     "output_type": "stream",
     "text": [
      "1\n",
      "dict_keys([1, 2, 3, 4, 5, 6, 7, 8, 9, 10])\n"
     ]
    }
   ],
   "source": [
    "### Assignment 2: Accessing Dictionary Elements\n",
    "\n",
    "#Print the value of the key 5 and the keys of the dictionary created in Assignment 1.\n",
    "\n",
    "print(squares[1])\n",
    "print(squares.keys())"
   ]
  },
  {
   "cell_type": "code",
   "execution_count": 15,
   "id": "d271137f",
   "metadata": {},
   "outputs": [
    {
     "name": "stdout",
     "output_type": "stream",
     "text": [
      "1\n"
     ]
    }
   ],
   "source": [
    "### Assignment 3: Dictionary Methods\n",
    "\n",
    "#Add a new key-value pair (11, 121) to the dictionary created in Assignment 1 and then remove the key-value pair with key 1. Print the modified dictionary.\n",
    "\n",
    "squares[11]=121 \n",
    "print(squares[1])\n",
    "\n",
    "\n"
   ]
  },
  {
   "cell_type": "code",
   "execution_count": 16,
   "id": "1f57ca1d",
   "metadata": {},
   "outputs": [
    {
     "name": "stdout",
     "output_type": "stream",
     "text": [
      "key :1 value; 1\n",
      "key :2 value; 4\n",
      "key :3 value; 9\n",
      "key :4 value; 16\n",
      "key :5 value; 25\n",
      "key :6 value; 36\n",
      "key :7 value; 49\n",
      "key :8 value; 64\n",
      "key :9 value; 81\n",
      "key :10 value; 100\n",
      "key :11 value; 121\n"
     ]
    }
   ],
   "source": [
    "### Assignment 4: Iterating Over Dictionaries\n",
    "\n",
    "#Iterate over the dictionary created in Assignment 1 and print each key-value pair.\n",
    "for key,value in squares.items():\n",
    "    print(f'key :{key} value; {value}')\n",
    "\n"
   ]
  },
  {
   "cell_type": "code",
   "execution_count": null,
   "id": "082277a3",
   "metadata": {},
   "outputs": [],
   "source": [
    "### Assignment 5: Dictionary Comprehensions\n",
    "\n",
    "#Create a new dictionary containing the cubes of the first 10 positive integers using a dictionary comprehension. Print the new dictionary.\n",
    "\n"
   ]
  },
  {
   "cell_type": "code",
   "execution_count": 18,
   "id": "637e5568",
   "metadata": {},
   "outputs": [
    {
     "data": {
      "text/plain": [
       "{1: 1, 2: 4, 3: 9, 4: 16, 5: 25, 6: 36, 7: 49, 8: 64, 9: 81, 10: 100}"
      ]
     },
     "execution_count": 18,
     "metadata": {},
     "output_type": "execute_result"
    }
   ],
   "source": [
    "### Assignment 6: Merging Dictionaries\n",
    "\n",
    "#Create two dictionaries: one with keys as the first 5 positive integers and values as their squares, and another with keys as the next 5 positive integers and values as their squares. Merge these dictionaries into a single dictionary and print it.\n",
    "\n",
    "\n",
    "squares={x:x*x for x in range(1,6)}\n",
    "second_squares={x:x*x for x in range(6,11)}\n",
    "squares_10={**squares,**second_squares}\n",
    "squares_10\n",
    "\n",
    "\n"
   ]
  },
  {
   "cell_type": "code",
   "execution_count": 20,
   "id": "4338e35b",
   "metadata": {},
   "outputs": [
    {
     "data": {
      "text/plain": [
       "{'name': 'rahul',\n",
       " 'age': 12,\n",
       " 'grades': 'A',\n",
       " 'student_cgpa': {'math': 7, 'science': 8, 'social': 9}}"
      ]
     },
     "execution_count": 20,
     "metadata": {},
     "output_type": "execute_result"
    }
   ],
   "source": [
    "### Assignment 7: Nested Dictionaries\n",
    "\n",
    "#Create a nested dictionary representing a student with keys 'name', 'age', 'grades', where 'grades' is another dictionary with keys 'math', 'science', and 'english'. Print the nested dictionary.\n",
    "student_info={'name':'rahul','age':12,'grades':'A','student_cgpa':{'math':7,'science':8,'social':9}}\n",
    "student_info"
   ]
  },
  {
   "cell_type": "code",
   "execution_count": 21,
   "id": "1855da68",
   "metadata": {},
   "outputs": [
    {
     "data": {
      "text/plain": [
       "{1: [1, 2, 3, 4, 5],\n",
       " 2: [2, 4, 6, 8, 10],\n",
       " 3: [3, 6, 9, 12, 15],\n",
       " 4: [4, 8, 12, 16, 20],\n",
       " 5: [5, 10, 15, 20, 25]}"
      ]
     },
     "execution_count": 21,
     "metadata": {},
     "output_type": "execute_result"
    }
   ],
   "source": [
    "### Assignment 8: Dictionary of Lists\n",
    "\n",
    "#Create a dictionary where the keys are the first 5 positive integers and the values are lists containing the first 5 multiples of the key. Print the dictionary.\n",
    "dictionary_of_lists={x:[x*y for y in range(1,6)] for x in range(1,6)}\n",
    "dictionary_of_lists"
   ]
  },
  {
   "cell_type": "code",
   "execution_count": 22,
   "id": "c38ecc5f",
   "metadata": {},
   "outputs": [
    {
     "data": {
      "text/plain": [
       "{1: (1, 1), 2: (2, 4), 3: (3, 9), 4: (4, 16), 5: (5, 25)}"
      ]
     },
     "execution_count": 22,
     "metadata": {},
     "output_type": "execute_result"
    }
   ],
   "source": [
    "### Assignment 9: Dictionary of Tuples\n",
    "\n",
    "#Create a dictionary where the keys are the first 5 positive integers and the values are tuples containing the key and its square. Print the dictionary.\n",
    "dictionary_of_tuples={x:(x,x*x) for x in range(1,6)}\n",
    "dictionary_of_tuples"
   ]
  },
  {
   "cell_type": "code",
   "execution_count": 23,
   "id": "0ed1fdc1",
   "metadata": {},
   "outputs": [
    {
     "data": {
      "text/plain": [
       "[(1, 1), (2, 4), (3, 9), (4, 16), (5, 25)]"
      ]
     },
     "execution_count": 23,
     "metadata": {},
     "output_type": "execute_result"
    }
   ],
   "source": [
    "### Assignment 10: Dictionary and List Conversion\n",
    "\n",
    "#Create a dictionary with the first 5 positive integers as keys and their squares as values. Convert the dictionary to a list of tuples and print it.\n",
    "squares={x:x*x for x in range(1,6)}\n",
    "list_of_tuples=list(squares.items())\n",
    "list_of_tuples"
   ]
  },
  {
   "cell_type": "code",
   "execution_count": 24,
   "id": "72719e40",
   "metadata": {},
   "outputs": [
    {
     "data": {
      "text/plain": [
       "{2: 4, 4: 16, 6: 36, 8: 64, 10: 100}"
      ]
     },
     "execution_count": 24,
     "metadata": {},
     "output_type": "execute_result"
    }
   ],
   "source": [
    "### Assignment 11: Dictionary Filtering\n",
    "\n",
    "#Create a dictionary with the first 10 positive integers as keys and their squares as values. Create a new dictionary containing only the key-value pairs where the key is even. Print the new dictionary.\n",
    "squares={x:x*x for x in range(1,11)}\n",
    "even_squares={x:squares[x] for x in squares.keys() if x%2==0}\n",
    "even_squares"
   ]
  },
  {
   "cell_type": "code",
   "execution_count": 25,
   "id": "b91e8855",
   "metadata": {},
   "outputs": [
    {
     "data": {
      "text/plain": [
       "{1: 1, 4: 2, 9: 3, 16: 4, 25: 5}"
      ]
     },
     "execution_count": 25,
     "metadata": {},
     "output_type": "execute_result"
    }
   ],
   "source": [
    "### Assignment 12: Dictionary Key and Value Transformation\n",
    "\n",
    "#Create a dictionary with the first 5 positive integers as keys and their squares as values. Create a new dictionary with keys and values swapped. Print the new dictionary.\n",
    "\n",
    "squares={x:x*x for x in range(1,6)}\n",
    "reversed_dict={value:key for key,value in squares.items()}\n",
    "reversed_dict"
   ]
  },
  {
   "cell_type": "code",
   "execution_count": 27,
   "id": "a0e5d566",
   "metadata": {},
   "outputs": [
    {
     "data": {
      "text/plain": [
       "{1: [10], 2: [], 3: [], 4: [], 5: []}"
      ]
     },
     "execution_count": 27,
     "metadata": {},
     "output_type": "execute_result"
    }
   ],
   "source": [
    "### Assignment 13: Default Dictionary\n",
    "\n",
    "#Create a default dictionary where each key has a default value of an empty list. Add some elements to the lists and print the dictionary.\n",
    "\n",
    "defaul_dictionary={x:list() for x in range(1,6)}\n",
    "defaul_dictionary\n",
    "defaul_dictionary[1].append(10)\n",
    "defaul_dictionary"
   ]
  },
  {
   "cell_type": "code",
   "execution_count": 29,
   "id": "682f8664",
   "metadata": {},
   "outputs": [
    {
     "name": "stdout",
     "output_type": "stream",
     "text": [
      "{'r': 1, 'a': 1, 'h': 1, 'u': 1, 'l': 1}\n"
     ]
    }
   ],
   "source": [
    "### Assignment 14: Counting with Dictionaries\n",
    "\n",
    "#Write a function that takes a string and returns a dictionary with the count of each character in the string. Print the dictionary.\n",
    "def frequence(string): \n",
    "    freq={char:string.count(char) for char in string}\n",
    "    return freq\n",
    "print(frequence(\"rahul\"))"
   ]
  },
  {
   "cell_type": "code",
   "execution_count": 33,
   "id": "42462909",
   "metadata": {},
   "outputs": [
    {
     "name": "stdout",
     "output_type": "stream",
     "text": [
      "<class 'str'>\n"
     ]
    }
   ],
   "source": [
    "### Assignment 15: Dictionary and JSON\n",
    "import json\n",
    "#Create a dictionary representing a book with keys 'title', 'author', 'year', and 'genre'. Convert the dictionary to a JSON string and print it.\n",
    "book={'title':\"Money is everything\",'year':2022,'genre':'comedy'}\n",
    "json_data=json.dumps(book)\n",
    "json_data\n",
    "print(type(json_data))\n",
    "\n"
   ]
  }
 ],
 "metadata": {
  "kernelspec": {
   "display_name": "Python 3",
   "language": "python",
   "name": "python3"
  },
  "language_info": {
   "codemirror_mode": {
    "name": "ipython",
    "version": 3
   },
   "file_extension": ".py",
   "mimetype": "text/x-python",
   "name": "python",
   "nbconvert_exporter": "python",
   "pygments_lexer": "ipython3",
   "version": "3.12.0"
  }
 },
 "nbformat": 4,
 "nbformat_minor": 5
}
