{
 "cells": [
  {
   "cell_type": "markdown",
   "id": "964cf61d",
   "metadata": {},
   "source": [
    "# Module: SQLite3 Assignments\n",
    "## Lesson: SQLite3\n",
    "\n",
    "\n",
    "\n",
    "\n",
    "\n",
    "\n",
    "\n",
    "\n",
    "\n",
    "\n",
    "\n",
    "\n",
    "\n",
    "\n"
   ]
  },
  {
   "cell_type": "code",
   "execution_count": 16,
   "metadata": {},
   "outputs": [
    {
     "name": "stdout",
     "output_type": "stream",
     "text": [
      "[(1, 'Rahul', 23, 'IT'), (2, 'Rahul2', 24, 'Sotware')]\n"
     ]
    }
   ],
   "source": [
    "### Assignment 1: Creating and Connecting to a Database\n",
    "\n",
    "#1. Write a Python function to create a new SQLite3 database named `test.db`.\n",
    "#2. Write a Python function to create a table named `employees` with columns `id` (integer), `name` (text), `age` (integer), and `department` (text) in the `test.db` database.\n",
    "import sqlite3 \n",
    "connection=sqlite3.connect('example4.db')\n",
    "#reading the column and rwo data \n",
    "cursor=connection.cursor() \n",
    "cursor.execute('''create table if not exists employees(id integer primary key, name Text NOT null, age integer,department TEXT)''')\n",
    "cursor.execute('''Insert into employees(name,age,department) Values(\"Rahul\",23,\"IT\")''')\n",
    "cursor.execute('''Insert into employees(name,age,department) Values(\"Rahul2\",24,\"Sotware\")''')\n",
    "connection.commit()\n",
    "#cursor.execute('''Insert into employees(name,age,department) Values(\"Rahul\",23,\"IT\")''')\n",
    "cursor.execute('''select * from employees''')\n",
    "rows=cursor.fetchall() \n",
    "print(rows)\n",
    "\n",
    "\n"
   ]
  },
  {
   "cell_type": "code",
   "execution_count": 24,
   "id": "ad47b246",
   "metadata": {},
   "outputs": [
    {
     "name": "stdout",
     "output_type": "stream",
     "text": [
      "[(1, 'Rahul', 23, 'IT'), (2, 'Rahul2', 24, 'Sotware'), (3, 'pasha', 24, 'software'), (4, 'pasha', 24, 'software'), (5, 'pasha', 24, 'software'), (6, 'pasha', 24, 'software'), (7, 'pasha', 24, 'software'), (8, 'pasha', 24, 'software')]\n"
     ]
    }
   ],
   "source": [
    "### Assignment 2: Inserting Data\n",
    "\n",
    "#1. Write a Python function to insert a new employee into the `employees` table.\n",
    "#2. Insert at least 5 different employees into the `employees` table.\n",
    "connection=sqlite3.connect('example4.db')\n",
    "cursor=connection.cursor()\n",
    "def newRecord(query,newData):\n",
    "    \n",
    "    cursor.execute(query,newData)\n",
    "    connection.commit() \n",
    "\n",
    "query='''Insert into employees(name,age,department) VALUES (:name,:age,:department)'''\n",
    "newRecord(query,{'name':'pasha','age':24,'department':\"software\"})\n",
    "cursor.execute('select * from employees')\n",
    "rows=cursor.fetchall()\n",
    "print(rows)\n",
    "\n"
   ]
  },
  {
   "cell_type": "code",
   "execution_count": 26,
   "id": "9a49511a",
   "metadata": {},
   "outputs": [
    {
     "name": "stdout",
     "output_type": "stream",
     "text": [
      "[(3, 'pasha', 24, 'software'), (4, 'pasha', 24, 'software'), (5, 'pasha', 24, 'software'), (6, 'pasha', 24, 'software'), (7, 'pasha', 24, 'software'), (8, 'pasha', 24, 'software')]\n"
     ]
    }
   ],
   "source": [
    "### Assignment 3: Querying Data\n",
    "\n",
    "#1. Write a Python function to fetch and display all records from the `employees` table.\n",
    "#2. Write a Python function to fetch and display all employees from a specific department.\n",
    "#2 \n",
    "cursor.execute(\"select * from employees where department='software'\")\n",
    "\n",
    "rows=cursor.fetchall() \n",
    "print(rows)\n"
   ]
  },
  {
   "cell_type": "code",
   "execution_count": 30,
   "id": "83098d90",
   "metadata": {},
   "outputs": [
    {
     "name": "stdout",
     "output_type": "stream",
     "text": [
      "[(1, 'rahulpasha on id=5', 23, 'IT'), (2, 'rahulpasha on id=5', 24, 'Sotware'), (3, 'rahulpasha on id=5', 24, 'software'), (4, 'rahulpasha on id=5', 24, 'software'), (5, 'rahulpasha_shaik', 24, 'software'), (6, 'rahulpasha on id=5', 24, 'software'), (7, 'rahulpasha on id=5', 24, 'software'), (8, 'rahulpasha on id=5', 24, 'software')]\n"
     ]
    }
   ],
   "source": [
    "### Assignment 4: Updating Data\n",
    "\n",
    "#1. Write a Python function to update the department of an employee based on their `id`.\n",
    "#2. Update the department of at least 2 employees and display the updated records.\n",
    "cursor.execute(\"update employees set name='rahulpasha_shaik' where id=5\")\n",
    "cursor.execute(\"select * from employees\")\n",
    "rows=cursor.fetchall() \n",
    "print(rows)"
   ]
  },
  {
   "cell_type": "code",
   "execution_count": 31,
   "id": "ef0bcf8d",
   "metadata": {},
   "outputs": [
    {
     "name": "stdout",
     "output_type": "stream",
     "text": [
      "[(2, 'rahulpasha on id=5', 24, 'Sotware'), (3, 'rahulpasha on id=5', 24, 'software'), (4, 'rahulpasha on id=5', 24, 'software'), (5, 'rahulpasha_shaik', 24, 'software'), (6, 'rahulpasha on id=5', 24, 'software'), (7, 'rahulpasha on id=5', 24, 'software'), (8, 'rahulpasha on id=5', 24, 'software')]\n"
     ]
    }
   ],
   "source": [
    "### Assignment 5: Deleting Data\n",
    "\n",
    "#1. Write a Python function to delete an employee from the `employees` table based on their `id`.\n",
    "#2. Delete at least 1 employee and display the remaining records.\n",
    "cursor.execute('delete from employees where id=1')\n",
    "cursor.execute('select * from employees')\n",
    "rows=cursor.fetchall() \n",
    "print(rows)"
   ]
  },
  {
   "cell_type": "code",
   "execution_count": 32,
   "id": "0ad99a80",
   "metadata": {},
   "outputs": [
    {
     "name": "stdout",
     "output_type": "stream",
     "text": [
      "[(2, 'rahulpasha on id=5', 24, 'Sotware'), (3, 'rahulpasha on id=5', 24, 'software'), (4, 'rahulpasha on id=5', 24, 'software'), (5, 'rahulpasha_shaik', 24, 'software'), (6, 'rahulpasha on id=5', 24, 'software'), (7, 'rahulpasha on id=5', 24, 'software'), (8, 'rahulpasha on id=5', 24, 'software'), (9, 'Varun', 19, 'Hr'), (10, 'Raghu', 20, 'Marketing'), (11, 'Radha', 25, 'IT'), (12, 'kiran', 45, 'Helpdesk'), (13, 'Yash', 27, 'Hardware'), (14, 'Vijay', 36, 'Academy'), (15, 'Rana', 32, 'Operations')]\n"
     ]
    }
   ],
   "source": [
    "\n",
    "### Assignment 6: Advanced Queries\n",
    "\n",
    "#1. Write a Python function to fetch and display employees older than a certain age.\n",
    "#2. Write a Python function to fetch and display employees whose names start with a specific letter.\n",
    "employee_name=[\"Varun\",'Raghu','Radha','kiran','Yash','Vijay','Rana']\n",
    "ages=[19,20,25,45,27,36,32]\n",
    "department=['Hr','Marketing','IT','Helpdesk','Hardware','Academy','Operations']\n",
    "cursor.executemany('Insert into employees(name,age,department) values(?,?,?)',list(zip(employee_name,ages,department)))\n",
    "connection.commit()\n",
    "cursor.execute('select * from employees')\n",
    "rows=cursor.fetchall()\n",
    "print(rows) \n",
    "\n",
    "\n",
    "\n"
   ]
  },
  {
   "cell_type": "code",
   "execution_count": 36,
   "id": "9d4ec0da",
   "metadata": {},
   "outputs": [
    {
     "name": "stdout",
     "output_type": "stream",
     "text": [
      "[(12, 'kiran', 45, 'Helpdesk'), (14, 'Vijay', 36, 'Academy'), (15, 'Rana', 32, 'Operations')]\n"
     ]
    }
   ],
   "source": [
    "#1\n",
    "ids_to_delete=[2,3,4,5,6,7]\n",
    "delete_query = f\"DELETE FROM employees WHERE id IN ({','.join('?' * len(ids_to_delete))})\"\n",
    "cursor.execute(delete_query,ids_to_delete)\n",
    "connection.commit() \n",
    "cursor.execute('select * from employees where age>28')\n",
    "rows=cursor.fetchall()\n",
    "print(rows) \n"
   ]
  },
  {
   "cell_type": "code",
   "execution_count": 42,
   "id": "f1b74be0",
   "metadata": {},
   "outputs": [
    {
     "name": "stdout",
     "output_type": "stream",
     "text": [
      "[(9, 'Varun', 19, 'Hr'), (14, 'Vijay', 36, 'Academy')]\n"
     ]
    }
   ],
   "source": [
    "#2. Write a Python function to fetch and display employees whose names start with a specific letter.\n",
    "cursor.execute(\"select * from employees where name LIKE 'V%'\")\n",
    "rows=cursor.fetchall()\n",
    "print(rows) "
   ]
  },
  {
   "cell_type": "code",
   "execution_count": 43,
   "id": "ed2a92c5",
   "metadata": {},
   "outputs": [
    {
     "name": "stdout",
     "output_type": "stream",
     "text": [
      "Successfully inserted 4 employees.\n"
     ]
    }
   ],
   "source": [
    "### Assignment 7: Handling Transactions\n",
    "\n",
    "#1. Write a Python function to insert multiple employees into the `employees` table in a single transaction. Ensure that if any insertion fails, none of the insertions are committed.\n",
    "\n",
    "import sqlite3\n",
    "\n",
    "# Function to insert multiple employees into the database\n",
    "def insert_multiple_employees(employees):\n",
    "    # Connect to the SQLite database\n",
    "    connection = sqlite3.connect('example4.db')\n",
    "    cursor = connection.cursor()\n",
    "    \n",
    "    # Define the SQL insert statement\n",
    "    query = '''INSERT INTO employees (name, age, department) VALUES (?, ?, ?)'''\n",
    "    \n",
    "    try:\n",
    "        # Begin a transaction\n",
    "        cursor.executemany(query, employees)\n",
    "        # Commit the transaction if all inserts succeed\n",
    "        connection.commit()\n",
    "        print(f\"Successfully inserted {len(employees)} employees.\")\n",
    "    except Exception as e:\n",
    "        # Rollback the transaction if any insertion fails\n",
    "        connection.rollback()\n",
    "        print(f\"An error occurred: {e}. No employees were inserted.\")\n",
    "    finally:\n",
    "        # Close the cursor and connection\n",
    "        cursor.close()\n",
    "        connection.close()\n",
    "\n",
    "# Sample data to insert\n",
    "employees_to_insert = [\n",
    "    ('Alice', 30, 'HR'),\n",
    "    ('Bob', 25, 'Engineering'),\n",
    "    ('Charlie', 28, 'Marketing'),\n",
    "    ('David', 22, 'Sales'),\n",
    "]\n",
    "\n",
    "# Call the function to insert employees\n",
    "insert_multiple_employees(employees_to_insert)\n"
   ]
  },
  {
   "cell_type": "code",
   "execution_count": 51,
   "id": "f9456a3b",
   "metadata": {},
   "outputs": [],
   "source": [
    "#2. Write a Python function to update the age of multiple employees in a single transaction. Ensure that if any update fails, none of the updates are committed.\n",
    "\n",
    "name=['Bob','Rana','Alice']\n",
    "new_ages=[26,33,29]\n",
    "cursor.executemany(f\"Update employees set age=? where name=?\",list(zip(new_ages,name)))\n",
    "connection.commit()\n",
    "\n",
    "\n"
   ]
  },
  {
   "cell_type": "code",
   "execution_count": null,
   "id": "a8f6309a",
   "metadata": {},
   "outputs": [],
   "source": [
    "[(8, 'rahulpasha on id=5', 24, 'software'), (9, 'Varun', 19, 'Hr'), (10, 'Raghu', 20, 'Marketing'), (11, 'Radha', 25, 'IT'), (12, 'kiran', 45, 'Helpdesk'), (13, 'Yash', 27, 'Hardware'), (14, 'Vijay', 36, 'Academy'), (15, 'Rana', 32, 'Operations'), (16, 'Alice', 30, 'HR'), (17, 'Bob', 25, 'Engineering'), (18, 'Charlie', 28, 'Marketing'), (19, 'David', 22, 'Sales')]"
   ]
  },
  {
   "cell_type": "code",
   "execution_count": 52,
   "id": "f92542b5",
   "metadata": {},
   "outputs": [
    {
     "name": "stdout",
     "output_type": "stream",
     "text": [
      "[(8, 'rahulpasha on id=5', 24, 'software'), (9, 'Varun', 19, 'Hr'), (10, 'Raghu', 20, 'Marketing'), (11, 'Radha', 25, 'IT'), (12, 'kiran', 45, 'Helpdesk'), (13, 'Yash', 27, 'Hardware'), (14, 'Vijay', 36, 'Academy'), (15, 'Rana', 33, 'Operations'), (16, 'Alice', 29, 'HR'), (17, 'Bob', 26, 'Engineering'), (18, 'Charlie', 28, 'Marketing'), (19, 'David', 22, 'Sales')]\n"
     ]
    }
   ],
   "source": [
    "cursor.execute(\"SELECT * FROM employees\")\n",
    "rows = cursor.fetchall()\n",
    "print(rows)"
   ]
  },
  {
   "cell_type": "code",
   "execution_count": null,
   "id": "c656c5c9",
   "metadata": {},
   "outputs": [],
   "source": [
    "### Assignment 8: Creating Relationships\n",
    "\n",
    "#1. Create a new table named `departments` with columns `id` (integer) and `name` (text).\n",
    "#2. Modify the `employees` table to include a foreign key referencing the `id` column in the `departments` table.\n",
    "#3. Write a Python function to insert data into both the `departments` and `employees` tables, ensuring referential integrity.\n",
    "import sqlite3\n",
    "\n",
    "def create_tables():\n",
    "    # Connect to the SQLite database\n",
    "    connection = sqlite3.connect('example4.db')\n",
    "    cursor = connection.cursor()\n",
    "    \n",
    "    # Step 1: Create the departments table\n",
    "    cursor.execute('''\n",
    "    CREATE TABLE IF NOT EXISTS departments (\n",
    "        id INTEGER PRIMARY KEY,\n",
    "        name TEXT NOT NULL\n",
    "    )\n",
    "    ''')\n",
    "\n",
    "    # Step 2: Create the employees table with a foreign key reference\n",
    "    cursor.execute('''\n",
    "    CREATE TABLE IF NOT EXISTS employees (\n",
    "        id INTEGER PRIMARY KEY,\n",
    "        name TEXT NOT NULL,\n",
    "        age INTEGER,\n",
    "        department_id INTEGER,\n",
    "        FOREIGN KEY (department_id) REFERENCES departments(id)\n",
    "    )\n",
    "    ''')\n",
    "    \n",
    "    # Commit changes and close the connection\n",
    "    connection.commit()\n",
    "    cursor.close()\n",
    "    connection.close()\n",
    "\n",
    "def insert_data(department_name, employee_name, employee_age):\n",
    "    # Connect to the SQLite database\n",
    "    connection = sqlite3.connect('example4.db')\n",
    "    cursor = connection.cursor()\n",
    "    \n",
    "    # Step 3: Insert data into departments\n",
    "    cursor.execute('''\n",
    "    INSERT INTO departments (name) VALUES (?)\n",
    "    ''', (department_name,))\n",
    "    \n",
    "    # Get the last inserted department ID\n",
    "    department_id = cursor.lastrowid\n",
    "\n",
    "    # Insert data into employees table with referential integrity\n",
    "    cursor.execute('''\n",
    "    INSERT INTO employees (name, age, department_id) VALUES (?, ?, ?)\n",
    "    ''', (employee_name, employee_age, department_id))\n",
    "\n",
    "    # Commit changes and close the connection\n",
    "    connection.commit()\n",
    "    cursor.close()\n",
    "    connection.close()\n",
    "\n",
    "# Create the tables\n",
    "create_tables()\n",
    "\n",
    "# Insert data into both tables\n",
    "insert_data('Engineering', 'Alice', 30)\n",
    "insert_data('HR', 'Bob', 25)\n",
    "insert_data('Marketing', 'Charlie', 28)\n",
    "\n",
    "print(\"Data inserted successfully.\")\n"
   ]
  },
  {
   "cell_type": "code",
   "execution_count": null,
   "id": "3dcc7caf",
   "metadata": {},
   "outputs": [],
   "source": [
    "### Assignment 9: Indexing and Optimization\n",
    "\n",
    "#1. Create an index on the `name` column of the `employees` table.\n",
    "#2. Write a Python function to fetch and display all employees whose names start with a specific letter. Compare the performance with and without the index.\n",
    "import sqlite3\n",
    "import time\n",
    "\n",
    "def create_tables():\n",
    "    connection = sqlite3.connect('example9.db')\n",
    "    cursor = connection.cursor()\n",
    "    \n",
    "    # Create employees table\n",
    "    cursor.execute('''\n",
    "    CREATE TABLE IF NOT EXISTS employees (\n",
    "        id INTEGER PRIMARY KEY,\n",
    "        name TEXT NOT NULL,\n",
    "        age INTEGER\n",
    "    )\n",
    "    ''')\n",
    "    \n",
    "    connection.commit()\n",
    "    cursor.close()\n",
    "    connection.close()\n",
    "\n",
    "def insert_employee(name, age):\n",
    "    connection = sqlite3.connect('example9.db')\n",
    "    cursor = connection.cursor()\n",
    "    \n",
    "    cursor.execute('''\n",
    "    INSERT INTO employees (name, age) VALUES (?, ?)\n",
    "    ''', (name, age))\n",
    "    \n",
    "    connection.commit()\n",
    "    cursor.close()\n",
    "    connection.close()\n",
    "\n",
    "def create_index():\n",
    "    connection = sqlite3.connect('example9.db')\n",
    "    cursor = connection.cursor()\n",
    "    \n",
    "    cursor.execute('CREATE INDEX IF NOT EXISTS idx_name ON employees (name)')\n",
    "    \n",
    "    connection.commit()\n",
    "    cursor.close()\n",
    "    connection.close()\n",
    "\n",
    "def fetch_employees_with_prefix(prefix):\n",
    "    connection = sqlite3.connect('example9.db')\n",
    "    cursor = connection.cursor()\n",
    "    \n",
    "    cursor.execute(\"SELECT * FROM employees WHERE name LIKE ?\", (prefix + '%',))\n",
    "    rows = cursor.fetchall()\n",
    "    \n",
    "    cursor.close()\n",
    "    connection.close()\n",
    "    return rows\n",
    "\n",
    "def measure_performance(prefix):\n",
    "    # Measure time without index\n",
    "    start_time = time.time()\n",
    "    print(\"Fetching employees without index:\")\n",
    "    employees_without_index = fetch_employees_with_prefix(prefix)\n",
    "    print(employees_without_index)\n",
    "    print(f\"Time taken without index: {time.time() - start_time:.6f} seconds\\n\")\n",
    "    \n",
    "    # Create index\n",
    "    create_index()\n",
    "    \n",
    "    # Measure time with index\n",
    "    start_time = time.time()\n",
    "    print(\"Fetching employees with index:\")\n",
    "    employees_with_index = fetch_employees_with_prefix(prefix)\n",
    "    print(employees_with_index)\n",
    "    print(f\"Time taken with index: {time.time() - start_time:.6f} seconds\")\n",
    "\n",
    "# Step 1: Create tables\n",
    "create_tables()\n",
    "\n",
    "# Step 2: Insert sample employees\n",
    "names = ['Alice', 'Bob', 'Charlie', 'David', 'Eve', 'Frank', 'Gina', 'Henry']\n",
    "ages = [30, 25, 35, 40, 28, 33, 29, 45]\n",
    "\n",
    "for name, age in zip(names, ages):\n",
    "    insert_employee(name, age)\n",
    "\n",
    "# Step 3: Measure performance\n",
    "measure_performance('A')  # Change the letter as needed\n"
   ]
  },
  {
   "cell_type": "code",
   "execution_count": 55,
   "id": "fc8773c5",
   "metadata": {},
   "outputs": [
    {
     "name": "stdout",
     "output_type": "stream",
     "text": [
      "Backup of 'test4.db' created at 'example4.db'.\n",
      "Existing 'test4.db' has been removed.\n",
      "Database restored from 'example4.db' to 'test4.db'.\n"
     ]
    }
   ],
   "source": [
    "\n",
    "\n",
    "### Assignment 10: Backing Up and Restoring Data\n",
    "\n",
    "#1. Write a Python function to back up the `test.db` database to a file named `backup.db`.\n",
    "#2. Write a Python function to restore the `test.db` database from the `backup.db` file.\n",
    "\n",
    "import sqlite3\n",
    "import shutil\n",
    "import os\n",
    "\n",
    "def backup_database(source_db, backup_db):\n",
    "    \"\"\"Backs up the specified database to the backup file.\"\"\"\n",
    "    try:\n",
    "        # Use shutil to copy the database file\n",
    "        shutil.copyfile(source_db, backup_db)\n",
    "        print(f\"Backup of '{source_db}' created at '{backup_db}'.\")\n",
    "    except Exception as e:\n",
    "        print(f\"An error occurred while backing up the database: {e}\")\n",
    "\n",
    "def restore_database(backup_db, target_db):\n",
    "    \"\"\"Restores the target database from the backup file.\"\"\"\n",
    "    try:\n",
    "        # Remove the target database if it exists\n",
    "        if os.path.exists(target_db):\n",
    "            os.remove(target_db)\n",
    "            print(f\"Existing '{target_db}' has been removed.\")\n",
    "\n",
    "        # Use shutil to copy the backup file to the target location\n",
    "        shutil.copyfile(backup_db, target_db)\n",
    "        print(f\"Database restored from '{backup_db}' to '{target_db}'.\")\n",
    "    except Exception as e:\n",
    "        print(f\"An error occurred while restoring the database: {e}\")\n",
    "\n",
    "# Usage Example\n",
    "if __name__ == \"__main__\":\n",
    "    source_database = 'test4.db'  # Replace with your actual database file\n",
    "    backup_database_file = 'example4.db'  # Backup file name\n",
    "\n",
    "    # Create a backup of the test database\n",
    "    backup_database(source_database, backup_database_file)\n",
    "\n",
    "    # Restore the database from the backup\n",
    "    restore_database(backup_database_file, source_database)\n"
   ]
  }
 ],
 "metadata": {
  "kernelspec": {
   "display_name": "Python 3",
   "language": "python",
   "name": "python3"
  },
  "language_info": {
   "codemirror_mode": {
    "name": "ipython",
    "version": 3
   },
   "file_extension": ".py",
   "mimetype": "text/x-python",
   "name": "python",
   "nbconvert_exporter": "python",
   "pygments_lexer": "ipython3",
   "version": "3.12.0"
  }
 },
 "nbformat": 4,
 "nbformat_minor": 5
}
