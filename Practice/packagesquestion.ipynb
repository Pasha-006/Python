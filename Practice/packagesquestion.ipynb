{
 "cells": [
  {
   "cell_type": "markdown",
   "metadata": {},
   "source": [
    "# Module 5: Modules and Packages Assignments\n",
    "## Lesson 5.1: Importing Modules\n",
    "### Assignment 1: Importing and Using Modules\n",
    "\n",
    "Import the `math` module and use it to calculate the square root of 25 and the sine of 90 degrees.\n",
    "\n",
    "### Assignment 2: Aliasing Modules\n",
    "\n",
    "Import the `datetime` module with an alias and use it to print the current date and time.\n",
    "\n",
    "### Assignment 3: Importing Specific Functions\n",
    "\n",
    "Import the `randint` function from the `random` module and use it to generate a random integer between 1 and 100.\n",
    "\n",
    "### Assignment 4: Importing Multiple Functions\n",
    "\n",
    "Import the `sqrt` and `pow` functions from the `math` module and use them to calculate the square root of 16 and 2 raised to the power of 3.\n",
    "\n",
    "### Assignment 5: Handling Import Errors\n",
    "\n",
    "Write code that attempts to import a non-existent module and gracefully handles the import error by printing an error message.\n",
    "\n",
    "## Lesson 5.2: Standard Library Overview\n",
    "### Assignment 6: Working with the `os` Module\n",
    "\n",
    "Use the `os` module to create a new directory, list the contents of the current directory, and remove the newly created directory.\n",
    "\n",
    "### Assignment 7: Working with the `sys` Module\n",
    "\n",
    "Use the `sys` module to print the Python version currently in use and the command-line arguments passed to the script.\n",
    "\n",
    "### Assignment 8: Working with the `math` Module\n",
    "\n",
    "Use the `math` module to calculate the greatest common divisor (GCD) of two numbers and the factorial of a number.\n",
    "\n",
    "### Assignment 9: Working with the `datetime` Module\n",
    "\n",
    "Use the `datetime` module to print the current date, calculate the date 100 days from today, and determine the day of the week for a given date.\n",
    "\n",
    "### Assignment 10: Working with the `random` Module\n",
    "\n",
    "Use the `random` module to generate a list of 5 random numbers between 1 and 50 and shuffle the elements of a list.\n",
    "\n",
    "## Lesson 5.3: Creating and Using Packages\n",
    "### Assignment 11: Creating a Simple Package\n",
    "\n",
    "Create a package named `mypackage` with two modules: `module1` and `module2`. `module1` should contain a function that adds two numbers, and `module2` should contain a function that multiplies two numbers. Write code to use these functions.\n",
    "\n",
    "### Assignment 12: Using `__init__.py`\n",
    "\n",
    "Modify the `mypackage` package to include an `__init__.py` file that imports the functions from `module1` and `module2`. Write code to use these functions.\n",
    "\n",
    "### Assignment 13: Importing from a Package\n",
    "\n",
    "Write code to import and use the functions from `mypackage` without explicitly importing `module1` and `module2`.\n",
    "\n",
    "### Assignment 14: Relative Imports\n",
    "\n",
    "Create a subpackage named `subpackage` within `mypackage` and move `module2` into `subpackage`. Modify the import statements in `__init__.py` to use relative imports. Write code to use the functions from both modules.\n",
    "\n",
    "### Assignment 15: Handling Package Import Errors\n",
    "\n",
    "Write code that attempts to import a non-existent function from `mypackage` and gracefully handles the import error by printing an error message."
   ]
  },
  {
   "cell_type": "code",
   "execution_count": 2,
   "metadata": {},
   "outputs": [
    {
     "name": "stdout",
     "output_type": "stream",
     "text": [
      "3.1622776601683795\n",
      "0.0\n"
     ]
    }
   ],
   "source": [
    "### Assignment 1: Importing and Using Modules\n",
    "\n",
    "#Import the `math` module and use it to calculate the square root of 25 and the sine of 90 degrees.\n",
    "from math import sqrt,sin\n",
    "print(sqrt(10))\n",
    "print(sin(0))"
   ]
  },
  {
   "cell_type": "code",
   "execution_count": 9,
   "id": "9c126e21",
   "metadata": {},
   "outputs": [
    {
     "name": "stdout",
     "output_type": "stream",
     "text": [
      "2024-09-29 22:02:36.893190\n",
      "22:02:36.893190\n"
     ]
    }
   ],
   "source": [
    "\n",
    "### Assignment 2: Aliasing Modules\n",
    "\n",
    "#Import the `datetime` module with an alias and use it to print the current date and time.\n",
    "from datetime import datetime \n",
    "current_time=datetime.now()\n",
    "print(current_time)\n",
    "print(current_time.time())\n",
    "\n",
    "\n"
   ]
  },
  {
   "cell_type": "code",
   "execution_count": 12,
   "id": "f442cb7a",
   "metadata": {},
   "outputs": [
    {
     "name": "stdout",
     "output_type": "stream",
     "text": [
      "21\n"
     ]
    }
   ],
   "source": [
    "### Assignment 3: Importing Specific Functions\n",
    "\n",
    "#Import the `randint` function from the `random` module and use it to generate a random integer between 1 and 100.\n",
    "import random \n",
    "print(random.randint(1,100))\n"
   ]
  },
  {
   "cell_type": "code",
   "execution_count": 13,
   "id": "1045ca7f",
   "metadata": {},
   "outputs": [
    {
     "name": "stdout",
     "output_type": "stream",
     "text": [
      "8.0\n",
      "4.0\n"
     ]
    }
   ],
   "source": [
    "### Assignment 4: Importing Multiple Functions\n",
    "\n",
    "#Import the `sqrt` and `pow` functions from the `math` module and use them to calculate the square root of 16 and 2 raised to the power of 3.\n",
    "from math import pow,sqrt \n",
    "print(pow(2,3))\n",
    "print(sqrt(16))"
   ]
  },
  {
   "cell_type": "code",
   "execution_count": 14,
   "id": "fc50a479",
   "metadata": {},
   "outputs": [
    {
     "name": "stdout",
     "output_type": "stream",
     "text": [
      "No module named 'math1'\n"
     ]
    }
   ],
   "source": [
    "### Assignment 5: Handling Import Errors\n",
    "\n",
    "#Write code that attempts to import a non-existent module and gracefully handles the import error by printing an error message.\n",
    "try: \n",
    "    import math1 \n",
    "except Exception as e: \n",
    "    print(e)"
   ]
  },
  {
   "cell_type": "code",
   "execution_count": 23,
   "id": "c15b9f00",
   "metadata": {},
   "outputs": [
    {
     "name": "stdout",
     "output_type": "stream",
     "text": [
      "d:\\Udemy\\Python\n",
      "['.git', '0_Reference_links.txt', 'advancefunctions.ipynb', 'assignment_question_1.ipynb', 'Data', 'dictionaries_assignment.ipynb', 'functionsExamples.ipynb', 'list_Assignment.ipynb', 'os_Module_test', 'packagesquestion.ipynb', 'README.md', 'requirements.txt', 'tuple_assignment.ipynb', 'venv']\n"
     ]
    }
   ],
   "source": [
    "### Assignment 6: Working with the `os` Module\n",
    "\n",
    "#Use the `os` module to create a new directory, list the contents of the current directory, and remove the newly created directory.\n",
    "import os \n",
    "\n",
    "current_dir=os.getcwd() \n",
    "print(current_dir)\n",
    "print(os.listdir(current_dir))\n",
    "os.rmdir(\"os_Module_test\")\n"
   ]
  },
  {
   "cell_type": "code",
   "execution_count": 25,
   "id": "5760f4da",
   "metadata": {},
   "outputs": [
    {
     "name": "stdout",
     "output_type": "stream",
     "text": [
      "3.12.0 | packaged by Anaconda, Inc. | (main, Oct  2 2023, 17:20:38) [MSC v.1916 64 bit (AMD64)]\n"
     ]
    }
   ],
   "source": [
    "### Assignment 7: Working with the `sys` Module\n",
    "\n",
    "#Use the `sys` module to print the Python version currently in use and the command-line arguments passed to the script.\n",
    "import sys \n",
    "print(sys.version) \n"
   ]
  },
  {
   "cell_type": "code",
   "execution_count": 27,
   "id": "98fddd57",
   "metadata": {},
   "outputs": [
    {
     "name": "stdout",
     "output_type": "stream",
     "text": [
      "2\n",
      "2432902008176640000\n"
     ]
    }
   ],
   "source": [
    "### Assignment 8: Working with the `math` Module\n",
    "\n",
    "#Use the `math` module to calculate the greatest common divisor (GCD) of two numbers and the factorial of a number.\n",
    "import math \n",
    "print(math.gcd(2,10)) \n",
    "print(math.factorial(20))\n"
   ]
  },
  {
   "cell_type": "code",
   "execution_count": 34,
   "id": "b295314a",
   "metadata": {},
   "outputs": [
    {
     "name": "stdout",
     "output_type": "stream",
     "text": [
      "2024-09-29 22:31:12.511513\n",
      "2025-01-07\n",
      "Tuesday\n"
     ]
    }
   ],
   "source": [
    "### Assignment 9: Working with the `datetime` Module\n",
    "\n",
    "#Use the `datetime` module to print the current date, calculate the date 100 days from today, and determine the day of the week for a given date\n",
    "from datetime import datetime,timedelta\n",
    "print(datetime.now())\n",
    "current_date=datetime.now().date() \n",
    "print(current_date+timedelta(100))\n",
    "date_100_days=current_date+timedelta(100)\n",
    "day_of_week = current_date.strftime(\"%A\")\n",
    "week_name=date_100_days.strftime(\"%A\")\n",
    "print(week_name)\n",
    "\n"
   ]
  },
  {
   "cell_type": "code",
   "execution_count": 36,
   "id": "bc592262",
   "metadata": {},
   "outputs": [
    {
     "name": "stdout",
     "output_type": "stream",
     "text": [
      "[39, 18, 29, 42, 25]\n"
     ]
    }
   ],
   "source": [
    "### Assignment 10: Working with the `random` Module\n",
    "import random\n",
    "#Use the `random` module to generate a list of 5 random numbers between 1 and 50 and shuffle the elements of a list.\n",
    "random_numbers=[]\n",
    "for i in range(1,6): \n",
    "    random_numbers.append(random.randint(1,50))\n",
    "print(random_numbers)"
   ]
  },
  {
   "cell_type": "code",
   "execution_count": 37,
   "id": "d7c2cf75",
   "metadata": {},
   "outputs": [
    {
     "name": "stdout",
     "output_type": "stream",
     "text": [
      "30\n"
     ]
    }
   ],
   "source": [
    "### Assignment 11: Creating a Simple Package\n",
    "\n",
    "#Create a package named `mypackage` with two modules: `module1` and `module2`. `module1` should contain a function that adds two numbers, and `module2` should contain a function that multiplies two numbers. Write code to use these functions.\n",
    "from Module import module1,module2 \n",
    "print(module1.add(10,20))\n",
    "\n"
   ]
  },
  {
   "cell_type": "code",
   "execution_count": 41,
   "id": "e992e52d",
   "metadata": {},
   "outputs": [
    {
     "ename": "AttributeError",
     "evalue": "module 'Module' has no attribute 'add'",
     "output_type": "error",
     "traceback": [
      "\u001b[1;31m---------------------------------------------------------------------------\u001b[0m",
      "\u001b[1;31mAttributeError\u001b[0m                            Traceback (most recent call last)",
      "Cell \u001b[1;32mIn[41], line 5\u001b[0m\n\u001b[0;32m      1\u001b[0m \u001b[38;5;66;03m### Assignment 12: Using `__init__.py`\u001b[39;00m\n\u001b[0;32m      2\u001b[0m \n\u001b[0;32m      3\u001b[0m \u001b[38;5;66;03m#Modify the `mypackage` package to include an `__init__.py` file that imports the functions from `module1` and `module2`. Write code to use these functions.\u001b[39;00m\n\u001b[0;32m      4\u001b[0m \u001b[38;5;28;01mimport\u001b[39;00m \u001b[38;5;21;01mModule\u001b[39;00m\n\u001b[1;32m----> 5\u001b[0m \u001b[38;5;28mprint\u001b[39m(\u001b[43mModule\u001b[49m\u001b[38;5;241;43m.\u001b[39;49m\u001b[43madd\u001b[49m(\u001b[38;5;241m10\u001b[39m,\u001b[38;5;241m20\u001b[39m))\n",
      "\u001b[1;31mAttributeError\u001b[0m: module 'Module' has no attribute 'add'"
     ]
    }
   ],
   "source": [
    "### Assignment 12: Using `__init__.py`\n",
    "\n",
    "#Modify the `mypackage` package to include an `__init__.py` file that imports the functions from `module1` and `module2`. Write code to use these functions."
   ]
  }
 ],
 "metadata": {
  "kernelspec": {
   "display_name": "Python 3",
   "language": "python",
   "name": "python3"
  },
  "language_info": {
   "codemirror_mode": {
    "name": "ipython",
    "version": 3
   },
   "file_extension": ".py",
   "mimetype": "text/x-python",
   "name": "python",
   "nbconvert_exporter": "python",
   "pygments_lexer": "ipython3",
   "version": "3.12.0"
  }
 },
 "nbformat": 4,
 "nbformat_minor": 5
}
