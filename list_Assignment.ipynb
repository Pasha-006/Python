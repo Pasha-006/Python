{
 "cells": [
  {
   "cell_type": "markdown",
   "metadata": {},
   "source": [
    "# Module 3: Data Structures Assignments\n",
    "## Lesson 3.1: Lists\n",
    "### Assignment 1: Creating and Accessing Lists\n",
    "\n",
    "Create a list of the first 20 positive integers. Print the list.\n",
    "\n",
    "### Assignment 2: Accessing List Elements\n",
    "\n",
    "Print the first, middle, and last elements of the list created in Assignment 1.\n",
    "\n",
    "### Assignment 3: List Slicing\n",
    "\n",
    "Print the first five elements, the last five elements, and the elements from index 5 to 15 of the list created in Assignment 1.\n",
    "\n",
    "### Assignment 4: List Comprehensions\n",
    "\n",
    "Create a new list containing the squares of the first 10 positive integers using a list comprehension. Print the new list.\n",
    "\n",
    "### Assignment 5: Filtering Lists\n",
    "\n",
    "Create a new list containing only the even numbers from the list created in Assignment 1 using a list comprehension. Print the new list.\n",
    "\n",
    "### Assignment 6: List Methods\n",
    "\n",
    "Create a list of random numbers and sort it in ascending and descending order. Remove the duplicates from the list and print the modified list.\n",
    "\n",
    "### Assignment 7: Nested Lists\n",
    "\n",
    "Create a nested list representing a 3x3 matrix and print the matrix. Access and print the element at the second row and third column.\n",
    "\n",
    "### Assignment 8: List of Dictionaries\n",
    "\n",
    "Create a list of dictionaries where each dictionary represents a student with keys 'name' and 'score'. Sort the list of dictionaries by the 'score' in descending order and print the sorted list.\n",
    "\n",
    "### Assignment 9: Matrix Transposition\n",
    "\n",
    "Write a function that takes a 3x3 matrix (nested list) as input and returns its transpose. Print the original and transposed matrices.\n",
    "\n",
    "### Assignment 10: Flattening a Nested List\n",
    "\n",
    "Write a function that takes a nested list and flattens it into a single list. Print the original and flattened lists.\n",
    "\n",
    "### Assignment 11: List Manipulation\n",
    "\n",
    "Create a list of the first 10 positive integers. Remove the elements at indices 2, 4, and 6, and insert the element '99' at index 5. Print the modified list.\n",
    "\n",
    "### Assignment 12: List Zipping\n",
    "\n",
    "Create two lists of the same length. Use the `zip` function to combine these lists into a list of tuples and print the result.\n",
    "\n",
    "### Assignment 13: List Reversal\n",
    "\n",
    "Write a function that takes a list and returns a new list with the elements in reverse order. Print the original and reversed lists.\n",
    "\n",
    "### Assignment 14: List Rotation\n",
    "\n",
    "Write a function that rotates a list by n positions. Print the original and rotated lists.\n",
    "\n",
    "### Assignment 15: List Intersection\n",
    "\n",
    "Write a function that takes two lists and returns a new list containing only the elements that are present in both lists. Print the intersected list."
   ]
  },
  {
   "cell_type": "code",
   "execution_count": null,
   "id": "7e61b3d2",
   "metadata": {},
   "outputs": [],
   "source": []
  },
  {
   "cell_type": "code",
   "execution_count": null,
   "id": "257d8e80",
   "metadata": {},
   "outputs": [],
   "source": []
  },
  {
   "cell_type": "code",
   "execution_count": null,
   "id": "eb38d549",
   "metadata": {},
   "outputs": [],
   "source": []
  },
  {
   "cell_type": "code",
   "execution_count": 1,
   "id": "15b4e818",
   "metadata": {},
   "outputs": [
    {
     "data": {
      "text/plain": [
       "[0, 1, 2, 3, 4, 5, 6, 7, 8, 9, 10, 11, 12, 13, 14, 15, 16, 17, 18, 19]"
      ]
     },
     "execution_count": 1,
     "metadata": {},
     "output_type": "execute_result"
    }
   ],
   "source": [
    "#Assigment 1 \n",
    "numbers=[x for x in range(20)]\n",
    "numbers"
   ]
  },
  {
   "cell_type": "code",
   "execution_count": 2,
   "metadata": {},
   "outputs": [
    {
     "name": "stdout",
     "output_type": "stream",
     "text": [
      "0\n",
      "19\n",
      "10\n"
     ]
    }
   ],
   "source": [
    "### Assignment 2: Accessing List Elements first,last,middle \n",
    "print(numbers[0])\n",
    "print(numbers[-1])\n",
    "print(numbers[len(numbers)//2])\n"
   ]
  },
  {
   "cell_type": "code",
   "execution_count": 3,
   "id": "8e079c88",
   "metadata": {},
   "outputs": [
    {
     "name": "stdout",
     "output_type": "stream",
     "text": [
      "[0, 1, 2, 3, 4]\n",
      "[19, 18, 17, 16, 15]\n",
      "[5, 6, 7, 8, 9, 10, 11, 12, 13, 14]\n"
     ]
    }
   ],
   "source": [
    "### Assignment 3: List Slicing\n",
    "\n",
    "#Print the first five elements, the last five elements, and the elements from index 5 to 15 of the list created in Assignment 1.\n",
    "\n",
    "print(numbers[:5])\n",
    "print(numbers[-1:-6:-1])\n",
    "print(numbers[5:15])"
   ]
  },
  {
   "cell_type": "code",
   "execution_count": 4,
   "id": "2ed2eea5",
   "metadata": {},
   "outputs": [
    {
     "data": {
      "text/plain": [
       "[1, 4, 9, 16, 25, 36, 49, 64, 81, 100]"
      ]
     },
     "execution_count": 4,
     "metadata": {},
     "output_type": "execute_result"
    }
   ],
   "source": [
    "### Assignment 4: List Comprehensions\n",
    "\n",
    "#Create a new list containing the squares of the first 10 positive integers using a list comprehension. Print the new list.\n",
    "squares=[x*x for x in range(1,11)]\n",
    "squares"
   ]
  },
  {
   "cell_type": "code",
   "execution_count": 5,
   "id": "bb0b44d1",
   "metadata": {},
   "outputs": [
    {
     "data": {
      "text/plain": [
       "[0, 2, 4, 6, 8, 10, 12, 14, 16, 18]"
      ]
     },
     "execution_count": 5,
     "metadata": {},
     "output_type": "execute_result"
    }
   ],
   "source": [
    "### Assignment 5: Filtering Lists\n",
    "\n",
    "#Create a new list containing only the even numbers from the list created in Assignment 1 using a list comprehension. Print the new list.\n",
    "even_numbers=[x for x in numbers if x%2==0]\n",
    "even_numbers"
   ]
  },
  {
   "cell_type": "code",
   "execution_count": 9,
   "id": "ed9e5733",
   "metadata": {},
   "outputs": [
    {
     "name": "stdout",
     "output_type": "stream",
     "text": [
      "[0, 1, 1, 2, 3, 4, 5, 6, 7, 8, 9, 10, 11, 12, 13, 14, 15, 16, 17, 17, 18, 19]\n",
      "[19, 18, 17, 17, 16, 15, 14, 13, 12, 11, 10, 9, 8, 7, 6, 5, 4, 3, 2, 1, 1, 0]\n",
      "[19, 18, 17, 16, 15, 14, 13, 12, 11, 10, 9, 8, 7, 6, 5, 4, 3, 2, 1, 0]\n"
     ]
    }
   ],
   "source": [
    "### Assignment 6: List Methods\n",
    "numbers.append(1)\n",
    "numbers.append(17)\n",
    "#Create a list of random numbers and sort it in ascending and descending order. Remove the duplicates from the list and print the modified list.\n",
    "numbers.sort()\n",
    "print(numbers) \n",
    "numbers.sort(reverse=True)\n",
    "print(numbers) \n",
    "numbers.remove(1)\n",
    "numbers.remove(17)\n",
    "print(numbers)\n"
   ]
  },
  {
   "cell_type": "code",
   "execution_count": 15,
   "id": "043318ee",
   "metadata": {},
   "outputs": [
    {
     "data": {
      "text/plain": [
       "2"
      ]
     },
     "execution_count": 15,
     "metadata": {},
     "output_type": "execute_result"
    }
   ],
   "source": [
    "### Assignment 7: Nested Lists\n",
    "\n",
    "#Create a nested list representing a 3x3 matrix and print the matrix. Access and print the element at the second row and third column. \n",
    "matrix=[[x*y for x in range(0,3)] for y in range(0,3)] \n",
    "matrix[1][2]"
   ]
  },
  {
   "cell_type": "code",
   "execution_count": 25,
   "id": "c42e572a",
   "metadata": {},
   "outputs": [
    {
     "data": {
      "text/plain": [
       "[{'name': 'a', 'score': 35},\n",
       " {'name': 'b', 'score': 36},\n",
       " {'name': 'c', 'score': 37},\n",
       " {'name': 'd', 'score': 38},\n",
       " {'name': 'e', 'score': 39},\n",
       " {'name': 'f', 'score': 40},\n",
       " {'name': 'g', 'score': 41},\n",
       " {'name': 'h', 'score': 42},\n",
       " {'name': 'i', 'score': 43},\n",
       " {'name': 'j', 'score': 44},\n",
       " {'name': 'k', 'score': 45},\n",
       " {'name': 'l', 'score': 46},\n",
       " {'name': 'm', 'score': 47},\n",
       " {'name': 'n', 'score': 48},\n",
       " {'name': 'o', 'score': 49},\n",
       " {'name': 'p', 'score': 50},\n",
       " {'name': 'q', 'score': 51},\n",
       " {'name': 'r', 'score': 52},\n",
       " {'name': 's', 'score': 53},\n",
       " {'name': 't', 'score': 54},\n",
       " {'name': 'u', 'score': 55},\n",
       " {'name': 'v', 'score': 56},\n",
       " {'name': 'w', 'score': 57},\n",
       " {'name': 'x', 'score': 58},\n",
       " {'name': 'y', 'score': 59}]"
      ]
     },
     "execution_count": 25,
     "metadata": {},
     "output_type": "execute_result"
    }
   ],
   "source": [
    "### Assignment 8: List of Dictionaries\n",
    "\n",
    "#Create a list of dictionaries where each dictionary represents a student with keys 'name' and 'score'. Sort the list of dictionaries by the 'score' in descending order and print the sorted list. \n",
    "names=[ chr(char) for char in range(97,122)] \n",
    "names \n",
    "score=[marks for marks in range(35,35+26)]\n",
    "score \n",
    "list_of_dictionaries=[{\"name\":name, \"score\":marks} for name,marks in zip(names,score)]\n",
    "list_of_dictionaries"
   ]
  },
  {
   "cell_type": "code",
   "execution_count": 28,
   "id": "64530bfa",
   "metadata": {},
   "outputs": [
    {
     "name": "stdout",
     "output_type": "stream",
     "text": [
      "[[1, 4, 7], [2, 5, 8], [3, 6, 9]]\n"
     ]
    }
   ],
   "source": [
    "### Assignment 9: Matrix Transposition\n",
    "\n",
    "#Write a function that takes a 3x3 matrix (nested list) as input and returns its transpose. Print the original and transposed matrices.\n",
    "\n",
    "matrix=[[int(input()) for x in range(0,3)] for y in range(0,3)]\n",
    "def transpose(matrix):\n",
    "    trans=[[matrix[i][j] for i in range(0,3)] for j in range(0,3)]\n",
    "    return trans \n",
    "print(transpose(matrix))\n",
    "   "
   ]
  },
  {
   "cell_type": "code",
   "execution_count": 31,
   "id": "19edb6cb",
   "metadata": {},
   "outputs": [
    {
     "name": "stdout",
     "output_type": "stream",
     "text": [
      "[1, 2, 3, 4, 5, 6, 7, 8, 9]\n"
     ]
    }
   ],
   "source": [
    "### Assignment 10: Flattening a Nested List\n",
    "\n",
    "#Write a function that takes a nested list and flattens it into a single list. Print the original and flattened lists. \n",
    "def flatten(nested_list): \n",
    "    flatten_list=[ele for x in nested_list for ele in x]\n",
    "    print(flatten_list)\n",
    "flatten(matrix)\n"
   ]
  },
  {
   "cell_type": "code",
   "execution_count": 34,
   "id": "46427f11",
   "metadata": {},
   "outputs": [
    {
     "name": "stdout",
     "output_type": "stream",
     "text": [
      "[0, 1, 3, 4, 6, 99, 7, 9]\n"
     ]
    }
   ],
   "source": [
    "### Assignment 11: List Manipulation\n",
    "\n",
    "#Create a list of the first 10 positive integers. Remove the elements at indices 2, 4, and 6, and insert the element '99' at index 5. Print the modified list. \n",
    "numbers = [x for x in range(0,10)] \n",
    "numbers.pop(2)\n",
    "numbers.pop(4)\n",
    "numbers.pop(6)\n",
    "numbers.insert(5,99)\n",
    "print(numbers)"
   ]
  },
  {
   "cell_type": "code",
   "execution_count": 35,
   "id": "ddc45ab7",
   "metadata": {},
   "outputs": [
    {
     "data": {
      "text/plain": [
       "[('a', 'A'),\n",
       " ('b', 'B'),\n",
       " ('c', 'C'),\n",
       " ('d', 'D'),\n",
       " ('e', 'E'),\n",
       " ('f', 'F'),\n",
       " ('g', 'G'),\n",
       " ('h', 'H'),\n",
       " ('i', 'I'),\n",
       " ('j', 'J'),\n",
       " ('k', 'K'),\n",
       " ('l', 'L'),\n",
       " ('m', 'M'),\n",
       " ('n', 'N'),\n",
       " ('o', 'O'),\n",
       " ('p', 'P'),\n",
       " ('q', 'Q'),\n",
       " ('r', 'R'),\n",
       " ('s', 'S'),\n",
       " ('t', 'T'),\n",
       " ('u', 'U'),\n",
       " ('v', 'V'),\n",
       " ('w', 'W'),\n",
       " ('x', 'X'),\n",
       " ('y', 'Y')]"
      ]
     },
     "execution_count": 35,
     "metadata": {},
     "output_type": "execute_result"
    }
   ],
   "source": [
    "Capitals=[chr(char) for char in range(97,122)] \n",
    "small=[chr(char) for char in range(65,91)] \n",
    "letters=[(caps,tiny) for caps,tiny in zip(Capitals,small)]\n",
    "letters"
   ]
  },
  {
   "cell_type": "code",
   "execution_count": 36,
   "id": "6c032126",
   "metadata": {},
   "outputs": [
    {
     "data": {
      "text/plain": [
       "[9, 8, 7, 6, 5, 4, 3, 2, 1, 0]"
      ]
     },
     "execution_count": 36,
     "metadata": {},
     "output_type": "execute_result"
    }
   ],
   "source": [
    "### Assignment 13: List Reversal\n",
    "\n",
    "#Write a function that takes a list and returns a new list with the elements in reverse order. Print the original and reversed lists.\n",
    "numbers=[x for x in range(0,10)]\n",
    "numbers.reverse()\n",
    "numbers"
   ]
  },
  {
   "cell_type": "code",
   "execution_count": 37,
   "id": "11297b3f",
   "metadata": {},
   "outputs": [
    {
     "name": "stdout",
     "output_type": "stream",
     "text": [
      "[7, 6, 5, 4, 3, 2, 1, 0, 9, 8]\n"
     ]
    }
   ],
   "source": [
    "### Assignment 14: List Rotation\n",
    "\n",
    "#Write a function that rotates a list by n positions. Print the original and rotated lists  \n",
    "def reverse(numbers,start,n,nums_length):  \n",
    "    left=start \n",
    "    right=n-1 \n",
    "    while left<=right: \n",
    "        numbers[left],numbers[right]=numbers[right],numbers[left]\n",
    "        left+=1 \n",
    "        right-=1 \n",
    "\n",
    "    \n",
    "def rotates(num_list,n):\n",
    "    nums_length=len(num_list)\n",
    "    reverse(num_list,0,n,nums_length) \n",
    "    reverse(num_list,n,nums_length,nums_length)\n",
    "    reverse(num_list,0,nums_length,nums_length)\n",
    "    print(num_list)\n",
    "rotates(numbers,2)\n",
    "\n",
    "\n",
    "\n"
   ]
  },
  {
   "cell_type": "code",
   "execution_count": 39,
   "id": "ddbb8777",
   "metadata": {},
   "outputs": [
    {
     "data": {
      "text/plain": [
       "[5, 6, 7, 8, 9, 10]"
      ]
     },
     "execution_count": 39,
     "metadata": {},
     "output_type": "execute_result"
    }
   ],
   "source": [
    "### Assignment 15: List Intersection\n",
    "\n",
    "#Write a function that takes two lists and returns a new list containing only the elements that are present in both lists. Print the intersected list. \n",
    "number=[x for x in range(1,11)]\n",
    "numbers2=[x for x in range(5,16)] \n",
    "intersection=[x for x in number if x in numbers2]\n",
    "intersection"
   ]
  }
 ],
 "metadata": {
  "kernelspec": {
   "display_name": "Python 3",
   "language": "python",
   "name": "python3"
  },
  "language_info": {
   "codemirror_mode": {
    "name": "ipython",
    "version": 3
   },
   "file_extension": ".py",
   "mimetype": "text/x-python",
   "name": "python",
   "nbconvert_exporter": "python",
   "pygments_lexer": "ipython3",
   "version": "3.12.0"
  }
 },
 "nbformat": 4,
 "nbformat_minor": 5
}
