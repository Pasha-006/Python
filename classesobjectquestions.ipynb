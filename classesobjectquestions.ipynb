{
 "cells": [
  {
   "cell_type": "markdown",
   "metadata": {},
   "source": [
    "# Module: Classes and Objects Assignments\n",
    "## Lesson: Creating and Working with Classes and Objects\n",
    "\n",
    "\n"
   ]
  },
  {
   "cell_type": "code",
   "execution_count": 1,
   "id": "14bb692d",
   "metadata": {},
   "outputs": [
    {
     "name": "stdout",
     "output_type": "stream",
     "text": [
      "john\n",
      "1000\n",
      "2002\n"
     ]
    }
   ],
   "source": [
    "### Assignment 1: Basic Class and Object Creation\n",
    "\n",
    "#Create a class named `Car` with attributes `make`, `model`, and `year`. Create an object of the class and print its attributes.\n",
    "class Car: \n",
    "    def __init__(self,make,model,year) -> None:\n",
    "        self.make=make\n",
    "        self.model=model \n",
    "        self.year=year \n",
    "car=Car(\"john\",\"1000\",2002)\n",
    "print(car.make)\n",
    "print(car.model)\n",
    "print(car.year)\n",
    " \n"
   ]
  },
  {
   "cell_type": "code",
   "execution_count": 4,
   "id": "ce78d5d1",
   "metadata": {},
   "outputs": [
    {
     "name": "stdout",
     "output_type": "stream",
     "text": [
      "Engine started\n"
     ]
    }
   ],
   "source": [
    "\n",
    "### Assignment 2: Methods in Class\n",
    "\n",
    "#Add a method named `start_engine` to the `Car` class that prints a message when the engine starts. Create an object of the class and call the method.\n",
    "class Car: \n",
    "    def __init__(self,make,model,year) -> None:\n",
    "        self.make=make\n",
    "        self.model=model \n",
    "        self.year=year \n",
    "    def start_engine(self):\n",
    "        print(\"Engine started\")\n",
    "car=Car(\"john\",\"1000\",2002) \n",
    "car.start_engine()"
   ]
  },
  {
   "cell_type": "code",
   "execution_count": 5,
   "metadata": {},
   "outputs": [
    {
     "name": "stdout",
     "output_type": "stream",
     "text": [
      "Rahul\n",
      "22\n"
     ]
    }
   ],
   "source": [
    "\n",
    "### Assignment 3: Class with Constructor\n",
    "\n",
    "#Create a class named `Student` with attributes `name` and `age`. Use a constructor to initialize these attributes. Create an object of the class and print its attributes.\n",
    "class Student: \n",
    "    def __init__(self,name,age)-> None:  \n",
    "        self.name=name \n",
    "        self.age=age \n",
    "s1=Student(\"Rahul\",22)\n",
    "print(s1.name)\n",
    "print(s1.age)\n",
    " \n",
    "\n"
   ]
  },
  {
   "cell_type": "code",
   "execution_count": 7,
   "id": "8ff89942",
   "metadata": {},
   "outputs": [
    {
     "name": "stdout",
     "output_type": "stream",
     "text": [
      "0\n",
      "deposited amount 1000, New Balance is 1000\n",
      "withdrawed amount 100, New Balance is 900\n",
      "900\n"
     ]
    }
   ],
   "source": [
    "\n",
    "\n",
    "### Assignment 4: Class with Private Attributes\n",
    "\n",
    "#Create a class named `BankAccount` with private attributes `account_number` and `balance`. Add methods to deposit and withdraw money, and to check the balance. Create an object of the class and perform some operations.\n",
    "class BankAccount: \n",
    "    def __init__(self,account_number,balance) -> None:\n",
    "        self.__account_number=account_number\n",
    "        self.__balance=balance \n",
    "    def deposit(self,amount)->None: \n",
    "        \n",
    "        self.__balance+=amount\n",
    "        print(f'deposited amount {amount}, New Balance is {self.__balance}') \n",
    "    def withdraw(self,amount)->None: \n",
    "        if amount>self.__balance: \n",
    "            print(\"Insufficient funds\")\n",
    "        else: \n",
    "            \n",
    "            self.__balance-=amount \n",
    "            print(f'withdrawed amount {amount}, New Balance is {self.__balance}')\n",
    "    def check_balance(self)->int:\n",
    "        return self.__balance\n",
    "b1=BankAccount(1000,0)\n",
    "print(b1.check_balance())\n",
    "b1.deposit(1000)\n",
    "b1.withdraw(100)\n",
    "print(b1.check_balance())\n",
    "        "
   ]
  },
  {
   "cell_type": "code",
   "execution_count": 8,
   "id": "6b29d46f",
   "metadata": {},
   "outputs": [
    {
     "name": "stdout",
     "output_type": "stream",
     "text": [
      "Name : Rahul , age : 45 , Employee_id is 1000\n"
     ]
    }
   ],
   "source": [
    "\n",
    "### Assignment 5: Class Inheritance\n",
    "\n",
    "#Create a base class named `Person` with attributes `name` and `age`. Create a derived class named `Employee` that inherits from `Person` and adds an attribute `employee_id`. Create an object of the derived class and print its attributes.\n",
    "\n",
    "class Person: \n",
    "    def __init__(self,name,age):\n",
    "        self.name=name\n",
    "        self.age=age \n",
    "class Employee(Person):\n",
    "    def __init__(self,name,age,employee_id):\n",
    "        super().__init__(name,age)\n",
    "        self.employee_id=employee_id \n",
    "    #overriding the prinitng the object with magic methids \n",
    "    def __str__(self):\n",
    "        return f\"Name : {self.name} , age : {self.age} , Employee_id is {self.employee_id}\"\n",
    "e1=Employee(\"Rahul\",45,1000)\n",
    "print(e1)\n",
    "\n"
   ]
  },
  {
   "cell_type": "code",
   "execution_count": null,
   "id": "1ac3b357",
   "metadata": {},
   "outputs": [],
   "source": [
    "### Assignment 6: Method Overriding\n",
    "\n",
    "#In the `Employee` class, override the `__str__` method to return a string representation of the object. Create an object of the class and print it."
   ]
  },
  {
   "cell_type": "code",
   "execution_count": 9,
   "id": "b646f252",
   "metadata": {},
   "outputs": [
    {
     "name": "stdout",
     "output_type": "stream",
     "text": [
      "Name :rahul age: 17 address is : Street :7th city:mahabubabad code :506101\n"
     ]
    }
   ],
   "source": [
    "### Assignment 7: Class Composition\n",
    "\n",
    "#Create a class named `Address` with attributes `street`, `city`, and `zipcode`. Create a class named `Person` that has an `Address` object as an attribute. Create an object of the `Person` class and print its address.\n",
    "class Address: \n",
    "    def __init__(self,street,city,zipcode):\n",
    "        self.street=street \n",
    "        self.city=city \n",
    "        self.zipcode=zipcode\n",
    "    def __str__(self):\n",
    "        return f\"Street :{self.street} city:{self.city} code :{self.zipcode}\"\n",
    "class Person: \n",
    "    def __init__(self,name, age, street, city, zipcode): \n",
    "        self.name=name \n",
    "        self.age=age \n",
    "        self.address=Address(street,city,zipcode) \n",
    "    def __str__(self):\n",
    "        return f\"Name :{self.name} age: {self.age} address is : {self.address}\"\n",
    "p1=Person(\"rahul\",17,\"7th\", \"mahabubabad\",506101)\n",
    "print(p1)\n",
    "\n",
    "\n"
   ]
  },
  {
   "cell_type": "code",
   "execution_count": 12,
   "id": "0c64ddc7",
   "metadata": {},
   "outputs": [
    {
     "name": "stdout",
     "output_type": "stream",
     "text": [
      "1\n",
      "2\n"
     ]
    }
   ],
   "source": [
    "### Assignment 8: Class with Class Variables\n",
    "\n",
    "#Create a class named `Counter` with a class variable `count`. Each time an object is created, increment the count. Add a method to get the current count. Create multiple objects and print the count.\n",
    "class Counter: \n",
    "    count=0  \n",
    "    def __init__(self):  \n",
    "        Counter.count+=1 \n",
    "    def get_count(self): \n",
    "        return Counter.count\n",
    "c1=Counter()\n",
    "print(c1.get_count())\n",
    "c2=Counter() \n",
    "print(c2.get_count())\n",
    "\n",
    "\n",
    "\n",
    "\n"
   ]
  },
  {
   "cell_type": "code",
   "execution_count": 16,
   "id": "f91848c8",
   "metadata": {},
   "outputs": [
    {
     "name": "stdout",
     "output_type": "stream",
     "text": [
      "4\n"
     ]
    }
   ],
   "source": [
    "### Assignment 9: Static Methods\n",
    "\n",
    "#Create a class named `MathOperations` with a static method to calculate the square root of a number. Call the static method without creating an object.\n",
    "class MathOperations: \n",
    "    @staticmethod \n",
    "    def square_root(n): \n",
    "        return n**n \n",
    "    \n",
    "print(MathOperations.square_root(2))"
   ]
  },
  {
   "cell_type": "code",
   "execution_count": 17,
   "id": "ba8ac18c",
   "metadata": {},
   "outputs": [
    {
     "name": "stdout",
     "output_type": "stream",
     "text": [
      "10 20\n",
      "20 20\n",
      "20 30\n"
     ]
    }
   ],
   "source": [
    "### Assignment 10: Class with Properties\n",
    "\n",
    "#Create a class named `Rectangle` with private attributes `length` and `width`. Use properties to get and set these attributes. Create an object of the class and test the properties.\n",
    "class Rectangle: \n",
    "    def __init__(self,length,width): \n",
    "        self.__length=length \n",
    "        self.__width=width \n",
    "\n",
    "    def getLength(self): \n",
    "        return self.__length\n",
    "    def getWidth(self): \n",
    "        return self.__width \n",
    "    def setLength(self,length):\n",
    "        self.__length=length \n",
    "    def setWidth(self,width): \n",
    "        self.__width=width  \n",
    "r1=Rectangle(10,20)\n",
    "print(r1.getLength(),r1.getWidth())\n",
    "\n",
    "r1.setLength(20)\n",
    "print(r1.getLength(),r1.getWidth())\n",
    "r1.setWidth(30)\n",
    "print(r1.getLength(),r1.getWidth())\n",
    "\n",
    "\n"
   ]
  },
  {
   "cell_type": "code",
   "execution_count": 18,
   "id": "58cfd3a2",
   "metadata": {},
   "outputs": [
    {
     "name": "stdout",
     "output_type": "stream",
     "text": [
      "314.0\n",
      "100\n"
     ]
    }
   ],
   "source": [
    "\n",
    "### Assignment 11: Abstract Base Class\n",
    "\n",
    "#Create an abstract base class named `Shape` with an abstract method `area`. Create derived classes `Circle` and `Square` that implement the `area` method. Create objects of the derived classes and call the `area` method.\n",
    "from abc import ABC,abstractmethod \n",
    "class Shape(ABC): \n",
    "    @abstractmethod \n",
    "    def area(): \n",
    "        pass \n",
    "class Circle(Shape): \n",
    "    def __init__(self,radius): \n",
    "        self.radius=radius \n",
    "    \n",
    "    def area(self):\n",
    "        return 3.14*self.radius*self.radius \n",
    "class Square(Shape): \n",
    "    def __init__(self,side): \n",
    "        self.side=side \n",
    "    def area(self):\n",
    "        return self.side*self.side \n",
    "c1=Circle(10) \n",
    "print(c1.area())\n",
    "s1=Square(10)\n",
    "print(s1.area())\n",
    "\n"
   ]
  },
  {
   "cell_type": "code",
   "execution_count": 19,
   "id": "75fbbcc1",
   "metadata": {},
   "outputs": [
    {
     "name": "stdout",
     "output_type": "stream",
     "text": [
      "30 and 50\n"
     ]
    }
   ],
   "source": [
    "\n",
    "### Assignment 12: Operator Overloading\n",
    "\n",
    "#Create a class named `Vector` with attributes `x` and `y`. Overload the `+` operator to add two `Vector` objects. Create objects of the class and test the operator overloading.\n",
    "class Vector: \n",
    "    def __init__(self,x,y):\n",
    "        self.x=x \n",
    "        self.y=y\n",
    "    def __add__(self,other): \n",
    "        return Vector(self.x+other.x, self.y+other.y) \n",
    "    def __str__(self): \n",
    "        return f\"{self.x} and {self.y}\"\n",
    "    \n",
    "v1=Vector(10,20)\n",
    "v2=Vector(20,30)\n",
    "print(v1+v2)"
   ]
  },
  {
   "cell_type": "code",
   "execution_count": 20,
   "id": "bfac8d43",
   "metadata": {},
   "outputs": [
    {
     "name": "stdout",
     "output_type": "stream",
     "text": [
      "Insufficient funds\n"
     ]
    }
   ],
   "source": [
    "\n",
    "### Assignment 13: Class with Custom Exception\n",
    "\n",
    "#Create a custom exception named `InsufficientBalanceError`. In the `BankAccount` class, raise this exception when a withdrawal amount is greater than the balance. Handle the exception and print an appropriate message.\n",
    "class InsufficientBalanceError(Exception): \n",
    "    pass \n",
    "class BankAccount: \n",
    "    def __init__(self,balance): \n",
    "        self.balance=balance \n",
    "    def withdraw(self,amount):\n",
    "        if amount>self.balance: \n",
    "            raise InsufficientBalanceError \n",
    "        self.balance-=amount \n",
    "try: \n",
    "    b1=BankAccount(100)\n",
    "    b1.withdraw(200) \n",
    "\n",
    "\n",
    "except InsufficientBalanceError:\n",
    "    print(\"Insufficient funds\") \n"
   ]
  },
  {
   "cell_type": "code",
   "execution_count": 21,
   "id": "8c26ecd7",
   "metadata": {},
   "outputs": [
    {
     "name": "stdout",
     "output_type": "stream",
     "text": [
      "Hi everyone \n",
      "\n",
      "Monday is special day \n",
      "\n",
      "because it comes after the sunday\n"
     ]
    }
   ],
   "source": [
    "### Assignment 14: Class with Context Manager\n",
    "\n",
    "#Create a class named `FileManager` that implements the context manager protocol to open and close a file. Use this class to read the contents of a file.\n",
    "class FileManager: \n",
    "    def __init__(self,file): \n",
    "        self.file_name=file \n",
    "    def readFile(self):\n",
    "        with open(self.file_name) as file:  \n",
    "            for line in file: \n",
    "                yield line \n",
    "c1=FileManager(\"destination.txt\") \n",
    "for content in c1.readFile():\n",
    "    print(content)\n",
    "\n",
    "\n"
   ]
  },
  {
   "cell_type": "code",
   "execution_count": 22,
   "id": "a2c02f02",
   "metadata": {},
   "outputs": [
    {
     "name": "stdout",
     "output_type": "stream",
     "text": [
      "The final result is: 7.5\n"
     ]
    }
   ],
   "source": [
    "\n",
    "\n",
    "\n",
    "\n",
    "### Assignment 15: Chaining Methods\n",
    "\n",
    "#Create a class named `Calculator` with methods to add, subtract, multiply, and divide. Each method should return the object itself to allow method chaining. Create an object and chain multiple method calls.\n",
    "\n",
    "class Calculator:\n",
    "    def __init__(self, value=0):\n",
    "        self.value = value\n",
    "\n",
    "    def add(self, number):\n",
    "        self.value += number\n",
    "        return self  # Return the object itself for chaining\n",
    "\n",
    "    def subtract(self, number):\n",
    "        self.value -= number\n",
    "        return self\n",
    "\n",
    "    def multiply(self, number):\n",
    "        self.value *= number\n",
    "        return self\n",
    "\n",
    "    def divide(self, number):\n",
    "        if number != 0:\n",
    "            self.value /= number\n",
    "        else:\n",
    "            print(\"Cannot divide by zero!\")\n",
    "        return self\n",
    "\n",
    "    def result(self):\n",
    "        return self.value  # Return the final result\n",
    "\n",
    "\n",
    "# Create an object and chain multiple method calls\n",
    "calc = Calculator()\n",
    "result = calc.add(10).subtract(5).multiply(3).divide(2).result()\n",
    "\n",
    "print(f\"The final result is: {result}\")\n",
    "\n",
    "        "
   ]
  }
 ],
 "metadata": {
  "kernelspec": {
   "display_name": "Python 3",
   "language": "python",
   "name": "python3"
  },
  "language_info": {
   "codemirror_mode": {
    "name": "ipython",
    "version": 3
   },
   "file_extension": ".py",
   "mimetype": "text/x-python",
   "name": "python",
   "nbconvert_exporter": "python",
   "pygments_lexer": "ipython3",
   "version": "3.12.0"
  }
 },
 "nbformat": 4,
 "nbformat_minor": 5
}
