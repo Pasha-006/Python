{
 "cells": [
  {
   "cell_type": "code",
   "execution_count": 3,
   "metadata": {},
   "outputs": [
    {
     "name": "stdout",
     "output_type": "stream",
     "text": [
      "77.0\n",
      "25.0\n"
     ]
    }
   ],
   "source": [
    "###Temprature conversion \n",
    "def convert_temparature(temp, unit):\n",
    "    if unit=='C':\n",
    "        return temp*(9/5)+32 #celcius to fahrneheit \n",
    "    elif unit=='F':\n",
    "        return (temp-32)*(5/9)\n",
    "    else: \n",
    "        return None \n",
    "print(convert_temparature(25,'C'))\n",
    "print(convert_temparature(77,'F'))"
   ]
  },
  {
   "cell_type": "code",
   "execution_count": null,
   "metadata": {},
   "outputs": [],
   "source": []
  }
 ],
 "metadata": {
  "kernelspec": {
   "display_name": "Python 3",
   "language": "python",
   "name": "python3"
  },
  "language_info": {
   "codemirror_mode": {
    "name": "ipython",
    "version": 3
   },
   "file_extension": ".py",
   "mimetype": "text/x-python",
   "name": "python",
   "nbconvert_exporter": "python",
   "pygments_lexer": "ipython3",
   "version": "3.12.0"
  }
 },
 "nbformat": 4,
 "nbformat_minor": 2
}
