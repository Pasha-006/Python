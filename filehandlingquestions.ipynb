{
 "cells": [
  {
   "cell_type": "markdown",
   "metadata": {},
   "source": [
    "# Module: File Handling Assignments\n",
    "## Lesson: File Handling and Operations\n",
    "\n",
    "\n",
    "\n",
    "\n",
    "\n",
    "\n",
    "\n",
    "\n",
    "\n",
    "\n",
    "\n",
    "\n",
    "\n",
    "### Assignment 8: Counting Lines, Words, and Characters\n",
    "\n",
    "Write a function that reads the contents of a file named `stats.txt` and returns the number of lines, words, and characters in the file.\n",
    "\n",
    "### Assignment 9: Merging Multiple Files\n",
    "\n",
    "Write a function that merges the contents of multiple files into a single file named `merged.txt`.\n",
    "\n",
    "### Assignment 10: Splitting a Large File\n",
    "\n",
    "Write a function that splits a large file named `large.txt` into smaller files of 100 lines each.\n",
    "\n",
    "### Assignment 11: Creating a Log File\n",
    "\n",
    "Write a function that creates a log file named `activity.log` and writes log messages with timestamps.\n",
    "\n",
    "### Assignment 12: Binary File Operations\n",
    "\n",
    "Write a function that reads a binary file named `image.bin` and writes its contents to another binary file named `copy_image.bin`.\n",
    "\n",
    "\n",
    "\n",
    "### Assignment 14: JSON File Operations\n",
    "\n",
    "Write a function that reads a JSON file named `data.json` and prints its contents as a Python dictionary.\n",
    "\n",
    "### Assignment 15: File Permission Handling\n",
    "\n",
    "Write a function that attempts to read a file named `protected.txt` and handles any permission errors gracefully by printing an error message."
   ]
  },
  {
   "cell_type": "code",
   "execution_count": 1,
   "metadata": {},
   "outputs": [
    {
     "name": "stdout",
     "output_type": "stream",
     "text": [
      "Hi hello everyone \n",
      "im here to explain what to do next two days\n",
      "\n"
     ]
    }
   ],
   "source": [
    "### Assignment 1: Reading a File\n",
    "\n",
    "#Write a function that reads the contents of a file named `sample.txt` and prints each line.\n",
    "with open(\"sample.txt\",\"r\")  as file: \n",
    "    content=file.read()\n",
    "    print(content)"
   ]
  },
  {
   "cell_type": "code",
   "execution_count": 2,
   "id": "976bccfe",
   "metadata": {},
   "outputs": [],
   "source": [
    "### Assignment 2: Writing to a File\n",
    "\n",
    "#Write a function that writes a list of strings to a file named `output.txt`, with each string on a new line.\n",
    "with open(\"output.txt\",\"w\") as file: \n",
    "    list_strings=[\"shaik\",\"rahul\",\"pasha\"]\n",
    "    file.writelines(list_strings)\n",
    "    "
   ]
  },
  {
   "cell_type": "code",
   "execution_count": 4,
   "id": "c05d4095",
   "metadata": {},
   "outputs": [],
   "source": [
    "### Assignment 3: Copying a File\n",
    "\n",
    "#Write a function that copies the contents of a file named `source.txt` to a new file named `destination.txt`.\n",
    "content_source=[]\n",
    "with open(\"source.txt\",\"r\") as file: \n",
    "    content_source.append(file.read())\n",
    "with open(\"destination.txt\",\"w\") as file:\n",
    "    file.writelines(content_source)\n",
    "\n",
    "    "
   ]
  },
  {
   "cell_type": "code",
   "execution_count": 5,
   "id": "04d4cf19",
   "metadata": {},
   "outputs": [],
   "source": [
    "\n",
    "### Assignment 4: Appending to a File\n",
    "\n",
    "#Write a function that appends a given string to the end of a file named `source.txt`. \n",
    "with open(\"source.txt\",\"a\") as file: \n",
    "    file.write(\"actually this is not tha reality\")\n",
    "    "
   ]
  },
  {
   "cell_type": "code",
   "execution_count": 7,
   "id": "0e48dce6",
   "metadata": {},
   "outputs": [
    {
     "name": "stdout",
     "output_type": "stream",
     "text": [
      "17\n"
     ]
    }
   ],
   "source": [
    "### Assignment 5: Counting Words in a File\n",
    "\n",
    "#Write a function that reads the contents of a file named `document.txt` and returns the number of words in the file.\n",
    "with open(\"source.txt\",\"r\") as file: \n",
    "    content=file.read() \n",
    "    words=content.split() \n",
    "    print(len(words))"
   ]
  },
  {
   "cell_type": "code",
   "execution_count": 9,
   "id": "4fd536c4",
   "metadata": {},
   "outputs": [
    {
     "name": "stdout",
     "output_type": "stream",
     "text": [
      "Replaced all occurrences of 'old_word' with 'new_word' in source.txt.\n"
     ]
    }
   ],
   "source": [
    "### Assignment 6: Finding and Replacing Text\n",
    "\n",
    "#Write a function that finds and replaces all occurrences of a given word in a file named `data.txt` with another word.\n",
    "def find_and_replace(file_name, old_word, new_word):\n",
    "    # Read the contents of the file\n",
    "    with open(file_name, 'r') as file:\n",
    "        data = file.read()\n",
    "    \n",
    "    # Replace all occurrences of the old word with the new word\n",
    "    updated_data = data.replace(old_word, new_word)\n",
    "    \n",
    "    # Write the updated data back to the file\n",
    "    with open(file_name, 'w') as file:\n",
    "        file.write(updated_data)\n",
    "    \n",
    "    print(f\"Replaced all occurrences of '{old_word}' with '{new_word}' in {file_name}.\")\n",
    "\n",
    "# Example usage:\n",
    "find_and_replace(\"source.txt\", \"old_word\", \"new_word\")\n"
   ]
  },
  {
   "cell_type": "code",
   "execution_count": 10,
   "id": "9e04a591",
   "metadata": {},
   "outputs": [
    {
     "name": "stdout",
     "output_type": "stream",
     "text": [
      "because it comes after the sundayactually this is not tha reality\n",
      "Monday is special day\n",
      "Hi everyone\n"
     ]
    }
   ],
   "source": [
    "### Assignment 7: Reading a File in Reverse\n",
    "\n",
    "#Write a function that reads the contents of a file named `reverse.txt` and prints each line in reverse order.\n",
    "def read_file_in_reverse(file_name):\n",
    "    # Open the file and read all lines\n",
    "    with open(file_name, 'r') as file:\n",
    "        lines = file.readlines()\n",
    "    \n",
    "    # Reverse the list of lines\n",
    "    reversed_lines = lines[::-1]\n",
    "    \n",
    "    # Print each line in reverse order\n",
    "    for line in reversed_lines:\n",
    "        print(line.strip())  # Use strip() to remove any extra newline characters\n",
    "\n",
    "# Example usage:\n",
    "read_file_in_reverse(\"source.txt\")\n"
   ]
  },
  {
   "cell_type": "code",
   "execution_count": null,
   "id": "8d8731d0",
   "metadata": {},
   "outputs": [],
   "source": [
    "### Assignment 13: CSV File Operations\n",
    "\n",
    "#Write a function that reads a CSV file named `data.csv` and prints its contents as a list of dictionaries.\n",
    "\n"
   ]
  }
 ],
 "metadata": {
  "kernelspec": {
   "display_name": "Python 3",
   "language": "python",
   "name": "python3"
  },
  "language_info": {
   "codemirror_mode": {
    "name": "ipython",
    "version": 3
   },
   "file_extension": ".py",
   "mimetype": "text/x-python",
   "name": "python",
   "nbconvert_exporter": "python",
   "pygments_lexer": "ipython3",
   "version": "3.12.0"
  }
 },
 "nbformat": 4,
 "nbformat_minor": 5
}
